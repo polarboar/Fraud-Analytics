{
 "cells": [
  {
   "cell_type": "code",
   "execution_count": 1,
   "metadata": {},
   "outputs": [],
   "source": [
    "import numpy as np\n",
    "import pandas as pd\n",
    "import matplotlib.pyplot as plt"
   ]
  },
  {
   "cell_type": "code",
   "execution_count": 2,
   "metadata": {},
   "outputs": [
    {
     "data": {
      "text/html": [
       "<div>\n",
       "<style scoped>\n",
       "    .dataframe tbody tr th:only-of-type {\n",
       "        vertical-align: middle;\n",
       "    }\n",
       "\n",
       "    .dataframe tbody tr th {\n",
       "        vertical-align: top;\n",
       "    }\n",
       "\n",
       "    .dataframe thead th {\n",
       "        text-align: right;\n",
       "    }\n",
       "</style>\n",
       "<table border=\"1\" class=\"dataframe\">\n",
       "  <thead>\n",
       "    <tr style=\"text-align: right;\">\n",
       "      <th></th>\n",
       "      <th>Seller</th>\n",
       "      <th>Buyer</th>\n",
       "      <th>Amt</th>\n",
       "    </tr>\n",
       "  </thead>\n",
       "  <tbody>\n",
       "    <tr>\n",
       "      <th>count</th>\n",
       "      <td>708466.000000</td>\n",
       "      <td>708466.000000</td>\n",
       "      <td>7.084660e+05</td>\n",
       "    </tr>\n",
       "    <tr>\n",
       "      <th>mean</th>\n",
       "      <td>9495.510809</td>\n",
       "      <td>10689.271725</td>\n",
       "      <td>4.446489e+04</td>\n",
       "    </tr>\n",
       "    <tr>\n",
       "      <th>std</th>\n",
       "      <td>8593.744882</td>\n",
       "      <td>9125.190479</td>\n",
       "      <td>9.083406e+04</td>\n",
       "    </tr>\n",
       "    <tr>\n",
       "      <th>min</th>\n",
       "      <td>9.000000</td>\n",
       "      <td>1.000000</td>\n",
       "      <td>0.000000e+00</td>\n",
       "    </tr>\n",
       "    <tr>\n",
       "      <th>25%</th>\n",
       "      <td>2548.000000</td>\n",
       "      <td>2783.000000</td>\n",
       "      <td>1.006350e+04</td>\n",
       "    </tr>\n",
       "    <tr>\n",
       "      <th>50%</th>\n",
       "      <td>6814.000000</td>\n",
       "      <td>7880.000000</td>\n",
       "      <td>2.853200e+04</td>\n",
       "    </tr>\n",
       "    <tr>\n",
       "      <th>75%</th>\n",
       "      <td>14907.000000</td>\n",
       "      <td>17104.000000</td>\n",
       "      <td>6.294830e+04</td>\n",
       "    </tr>\n",
       "    <tr>\n",
       "      <th>max</th>\n",
       "      <td>32444.000000</td>\n",
       "      <td>32449.000000</td>\n",
       "      <td>5.030950e+07</td>\n",
       "    </tr>\n",
       "  </tbody>\n",
       "</table>\n",
       "</div>"
      ],
      "text/plain": [
       "              Seller          Buyer           Amt\n",
       "count  708466.000000  708466.000000  7.084660e+05\n",
       "mean     9495.510809   10689.271725  4.446489e+04\n",
       "std      8593.744882    9125.190479  9.083406e+04\n",
       "min         9.000000       1.000000  0.000000e+00\n",
       "25%      2548.000000    2783.000000  1.006350e+04\n",
       "50%      6814.000000    7880.000000  2.853200e+04\n",
       "75%     14907.000000   17104.000000  6.294830e+04\n",
       "max     32444.000000   32449.000000  5.030950e+07"
      ]
     },
     "execution_count": 2,
     "metadata": {},
     "output_type": "execute_result"
    }
   ],
   "source": [
    "original_dataset = pd.read_csv('data.csv')\n",
    "original_dataset.describe()"
   ]
  },
  {
   "cell_type": "markdown",
   "metadata": {},
   "source": [
    "### Preprocessing"
   ]
  },
  {
   "cell_type": "markdown",
   "metadata": {},
   "source": [
    "**Drop transactions with value 0**"
   ]
  },
  {
   "cell_type": "code",
   "execution_count": 3,
   "metadata": {},
   "outputs": [
    {
     "data": {
      "text/html": [
       "<div>\n",
       "<style scoped>\n",
       "    .dataframe tbody tr th:only-of-type {\n",
       "        vertical-align: middle;\n",
       "    }\n",
       "\n",
       "    .dataframe tbody tr th {\n",
       "        vertical-align: top;\n",
       "    }\n",
       "\n",
       "    .dataframe thead th {\n",
       "        text-align: right;\n",
       "    }\n",
       "</style>\n",
       "<table border=\"1\" class=\"dataframe\">\n",
       "  <thead>\n",
       "    <tr style=\"text-align: right;\">\n",
       "      <th></th>\n",
       "      <th>Seller</th>\n",
       "      <th>Buyer</th>\n",
       "      <th>Amt</th>\n",
       "    </tr>\n",
       "  </thead>\n",
       "  <tbody>\n",
       "    <tr>\n",
       "      <th>count</th>\n",
       "      <td>707549.000000</td>\n",
       "      <td>707549.000000</td>\n",
       "      <td>7.075490e+05</td>\n",
       "    </tr>\n",
       "    <tr>\n",
       "      <th>mean</th>\n",
       "      <td>9501.940555</td>\n",
       "      <td>10696.489437</td>\n",
       "      <td>4.452252e+04</td>\n",
       "    </tr>\n",
       "    <tr>\n",
       "      <th>std</th>\n",
       "      <td>8594.180764</td>\n",
       "      <td>9126.080854</td>\n",
       "      <td>9.087879e+04</td>\n",
       "    </tr>\n",
       "    <tr>\n",
       "      <th>min</th>\n",
       "      <td>9.000000</td>\n",
       "      <td>1.000000</td>\n",
       "      <td>1.000000e-01</td>\n",
       "    </tr>\n",
       "    <tr>\n",
       "      <th>25%</th>\n",
       "      <td>2548.000000</td>\n",
       "      <td>2822.000000</td>\n",
       "      <td>1.010325e+04</td>\n",
       "    </tr>\n",
       "    <tr>\n",
       "      <th>50%</th>\n",
       "      <td>6814.000000</td>\n",
       "      <td>7883.000000</td>\n",
       "      <td>2.859330e+04</td>\n",
       "    </tr>\n",
       "    <tr>\n",
       "      <th>75%</th>\n",
       "      <td>14907.000000</td>\n",
       "      <td>17139.000000</td>\n",
       "      <td>6.301865e+04</td>\n",
       "    </tr>\n",
       "    <tr>\n",
       "      <th>max</th>\n",
       "      <td>32444.000000</td>\n",
       "      <td>32449.000000</td>\n",
       "      <td>5.030950e+07</td>\n",
       "    </tr>\n",
       "  </tbody>\n",
       "</table>\n",
       "</div>"
      ],
      "text/plain": [
       "              Seller          Buyer           Amt\n",
       "count  707549.000000  707549.000000  7.075490e+05\n",
       "mean     9501.940555   10696.489437  4.452252e+04\n",
       "std      8594.180764    9126.080854  9.087879e+04\n",
       "min         9.000000       1.000000  1.000000e-01\n",
       "25%      2548.000000    2822.000000  1.010325e+04\n",
       "50%      6814.000000    7883.000000  2.859330e+04\n",
       "75%     14907.000000   17139.000000  6.301865e+04\n",
       "max     32444.000000   32449.000000  5.030950e+07"
      ]
     },
     "execution_count": 3,
     "metadata": {},
     "output_type": "execute_result"
    }
   ],
   "source": [
    "dataset = original_dataset.drop(original_dataset[original_dataset['Amt'] == 0].index)\n",
    "dataset.describe()"
   ]
  },
  {
   "cell_type": "markdown",
   "metadata": {},
   "source": [
    "**Drop self edges**"
   ]
  },
  {
   "cell_type": "code",
   "execution_count": 4,
   "metadata": {},
   "outputs": [
    {
     "data": {
      "text/html": [
       "<div>\n",
       "<style scoped>\n",
       "    .dataframe tbody tr th:only-of-type {\n",
       "        vertical-align: middle;\n",
       "    }\n",
       "\n",
       "    .dataframe tbody tr th {\n",
       "        vertical-align: top;\n",
       "    }\n",
       "\n",
       "    .dataframe thead th {\n",
       "        text-align: right;\n",
       "    }\n",
       "</style>\n",
       "<table border=\"1\" class=\"dataframe\">\n",
       "  <thead>\n",
       "    <tr style=\"text-align: right;\">\n",
       "      <th></th>\n",
       "      <th>Seller</th>\n",
       "      <th>Buyer</th>\n",
       "      <th>Amt</th>\n",
       "    </tr>\n",
       "  </thead>\n",
       "  <tbody>\n",
       "    <tr>\n",
       "      <th>count</th>\n",
       "      <td>665442.000000</td>\n",
       "      <td>665442.000000</td>\n",
       "      <td>6.654420e+05</td>\n",
       "    </tr>\n",
       "    <tr>\n",
       "      <th>mean</th>\n",
       "      <td>9940.664065</td>\n",
       "      <td>11210.800106</td>\n",
       "      <td>4.453210e+04</td>\n",
       "    </tr>\n",
       "    <tr>\n",
       "      <th>std</th>\n",
       "      <td>8642.170418</td>\n",
       "      <td>9137.748270</td>\n",
       "      <td>6.633225e+04</td>\n",
       "    </tr>\n",
       "    <tr>\n",
       "      <th>min</th>\n",
       "      <td>9.000000</td>\n",
       "      <td>1.000000</td>\n",
       "      <td>1.000000e-01</td>\n",
       "    </tr>\n",
       "    <tr>\n",
       "      <th>25%</th>\n",
       "      <td>2782.000000</td>\n",
       "      <td>3182.000000</td>\n",
       "      <td>1.007746e+04</td>\n",
       "    </tr>\n",
       "    <tr>\n",
       "      <th>50%</th>\n",
       "      <td>7549.000000</td>\n",
       "      <td>8795.000000</td>\n",
       "      <td>2.878920e+04</td>\n",
       "    </tr>\n",
       "    <tr>\n",
       "      <th>75%</th>\n",
       "      <td>15315.000000</td>\n",
       "      <td>17948.000000</td>\n",
       "      <td>6.322500e+04</td>\n",
       "    </tr>\n",
       "    <tr>\n",
       "      <th>max</th>\n",
       "      <td>32444.000000</td>\n",
       "      <td>32449.000000</td>\n",
       "      <td>1.898131e+07</td>\n",
       "    </tr>\n",
       "  </tbody>\n",
       "</table>\n",
       "</div>"
      ],
      "text/plain": [
       "              Seller          Buyer           Amt\n",
       "count  665442.000000  665442.000000  6.654420e+05\n",
       "mean     9940.664065   11210.800106  4.453210e+04\n",
       "std      8642.170418    9137.748270  6.633225e+04\n",
       "min         9.000000       1.000000  1.000000e-01\n",
       "25%      2782.000000    3182.000000  1.007746e+04\n",
       "50%      7549.000000    8795.000000  2.878920e+04\n",
       "75%     15315.000000   17948.000000  6.322500e+04\n",
       "max     32444.000000   32449.000000  1.898131e+07"
      ]
     },
     "execution_count": 4,
     "metadata": {},
     "output_type": "execute_result"
    }
   ],
   "source": [
    "dataset = dataset.drop(dataset[dataset['Seller'] == dataset['Buyer']].index)\n",
    "dataset.describe()"
   ]
  },
  {
   "cell_type": "markdown",
   "metadata": {},
   "source": [
    "### Performing benford analysis on the overall transactions"
   ]
  },
  {
   "cell_type": "code",
   "execution_count": 5,
   "metadata": {},
   "outputs": [],
   "source": [
    "from math import log10\n",
    "\n",
    "def benford_analysis(vals):\n",
    "    # Expected Benford frequencies\n",
    "    expected_freq = [round(len(vals) * log10(1 + 1/d)) for d in range(1, 10)]\n",
    "\n",
    "    # Convert to scientific notation and get first digit\n",
    "    first_digit = lambda x: int(('%e' % x)[0])\n",
    "\n",
    "    # Get observed first digit frequencies\n",
    "    observed_freq = [0] * 10\n",
    "    for val in vals:\n",
    "        observed_freq[first_digit(val)] += 1\n",
    "    observed_freq = observed_freq[1:]\n",
    "\n",
    "    print('Expected frequencies: ', expected_freq)\n",
    "    print('Observed frequencies: ', observed_freq)\n",
    "    \n",
    "    plt.plot(range(1, 10), expected_freq, label='Expected')\n",
    "    plt.plot(range(1, 10), observed_freq, label='Observed')\n",
    "    plt.legend(loc='upper right')\n",
    "    plt.show()\n",
    "    \n",
    "    mean_abs_dev = 1/(len(vals)*9) * sum([abs(obv-exp)\n",
    "                                          for obv, exp in zip(observed_freq, expected_freq)])\n",
    "    print('Mean absolute deviation: %.6lf' % mean_abs_dev)"
   ]
  },
  {
   "cell_type": "code",
   "execution_count": 6,
   "metadata": {},
   "outputs": [
    {
     "name": "stdout",
     "output_type": "stream",
     "text": [
      "Expected frequencies:  [200318, 117179, 83139, 64488, 52691, 44549, 38590, 34039, 30449]\n",
      "Observed frequencies:  [201751, 80134, 69050, 79204, 67115, 51811, 43240, 37782, 35355]\n"
     ]
    },
    {
     "data": {
      "image/png": "[encoded data removed]",
      "text/plain": [
       "<Figure size 432x288 with 1 Axes>"
      ]
     },
     "metadata": {
      "needs_background": "light"
     },
     "output_type": "display_data"
    },
    {
     "name": "stdout",
     "output_type": "stream",
     "text": [
      "Mean absolute deviation: 0.017076\n"
     ]
    }
   ],
   "source": [
    "benford_analysis(dataset['Amt'])"
   ]
  },
  {
   "cell_type": "markdown",
   "metadata": {},
   "source": [
    "$\\text{Mean Absolute Deviation (MAD) is around 0.017 which implies a nonconformity between the expected probability and} \\\\ \\text{the observed probability.}$"
   ]
  },
  {
   "cell_type": "markdown",
   "metadata": {},
   "source": [
    "### Pruning the transaction graph\n",
    "\n",
    "- We only consider the nodes (users) which have both incoming and outgoing edges.\n",
    "- This is because our goal is to identify circular trading and nodes need to have both incoming and outgoing edges to be part of a cycle."
   ]
  },
  {
   "cell_type": "code",
   "execution_count": 7,
   "metadata": {},
   "outputs": [
    {
     "name": "stdout",
     "output_type": "stream",
     "text": [
      "Sellers: 8354\n",
      "Buyers: 30400\n",
      "Sellers Union Buyers: 32369\n",
      "Sellers Intersection Buyers: 6385\n"
     ]
    }
   ],
   "source": [
    "sellers = set(dataset['Seller'])\n",
    "buyers = set(dataset['Buyer'])\n",
    "seller_buyer_union = sellers.union(buyers)\n",
    "seller_buyer_intersection = sellers.intersection(buyers)\n",
    "\n",
    "print('Sellers:', len(sellers))\n",
    "print('Buyers:', len(buyers))\n",
    "print('Sellers Union Buyers:', len(seller_buyer_union))\n",
    "print('Sellers Intersection Buyers:', len(seller_buyer_intersection))"
   ]
  },
  {
   "cell_type": "code",
   "execution_count": 8,
   "metadata": {},
   "outputs": [],
   "source": [
    "import networkx as nx"
   ]
  },
  {
   "cell_type": "code",
   "execution_count": 9,
   "metadata": {},
   "outputs": [],
   "source": [
    "G = nx.MultiDiGraph()\n",
    "\n",
    "for seller, buyer, amt in dataset[['Seller', 'Buyer', 'Amt']].values:\n",
    "    if (seller in seller_buyer_intersection\n",
    "            and buyer in seller_buyer_intersection):\n",
    "        G.add_weighted_edges_from([(int(seller), int(buyer), amt)])"
   ]
  },
  {
   "cell_type": "code",
   "execution_count": 10,
   "metadata": {},
   "outputs": [
    {
     "data": {
      "text/plain": [
       "6279"
      ]
     },
     "execution_count": 10,
     "metadata": {},
     "output_type": "execute_result"
    }
   ],
   "source": [
    "len(G.nodes())"
   ]
  },
  {
   "cell_type": "markdown",
   "metadata": {},
   "source": [
    "$\\text{Even though the total users who act as both buyers and sellers are 6385, we only have 6279 users in our truncated graph, this is because} \\\\ \\text{we only add an edge when both the vertices are buyers and sellers} \\\\ \\text{(Ex: Consider the case a->b->c where b is the only one who is both buying and selling but b won't be added to the updated transaction graph.}$"
   ]
  },
  {
   "cell_type": "markdown",
   "metadata": {},
   "source": [
    "**Removing edges which satisfy certain conditions (like considering only those weights which fall in a certain range etc)**"
   ]
  },
  {
   "cell_type": "code",
   "execution_count": 40,
   "metadata": {},
   "outputs": [],
   "source": [
    "def threshold_weights(G, should_consider_edge):\n",
    "    edges = [\n",
    "        (u, v, w['weight']) for u, v, w in G.edges(data=True)\n",
    "        if should_consider_edge(w['weight'])\n",
    "    ]\n",
    "    \n",
    "    X = nx.MultiDiGraph()\n",
    "    X.add_weighted_edges_from(edges)\n",
    "    return X"
   ]
  },
  {
   "cell_type": "code",
   "execution_count": 41,
   "metadata": {},
   "outputs": [],
   "source": [
    "G = threshold_weights(G, )"
   ]
  },
  {
   "cell_type": "code",
   "execution_count": 42,
   "metadata": {},
   "outputs": [
    {
     "data": {
      "text/plain": [
       "452127"
      ]
     },
     "execution_count": 42,
     "metadata": {},
     "output_type": "execute_result"
    }
   ],
   "source": [
    "len(G.edges())"
   ]
  },
  {
   "cell_type": "markdown",
   "metadata": {},
   "source": [
    "**Shared Nearest Neighbor Clustering (using Jarvis-Patrick Algorithm)**"
   ]
  },
  {
   "cell_type": "code",
   "execution_count": 29,
   "metadata": {},
   "outputs": [],
   "source": [
    "def shared_nn_clustering(G, t=3):\n",
    "    class UnionFind:\n",
    "        def __init__(self, nodes):\n",
    "            self.color = {\n",
    "                node: node\n",
    "                for node in nodes\n",
    "            }\n",
    "            \n",
    "        def representative(self, i):\n",
    "            if i != self.color[i]:\n",
    "                self.color[i] = self.representative(self.color[i])\n",
    "            return self.color[i]\n",
    "\n",
    "        def union(self, i, j):\n",
    "            p_i, p_j = self.representative(i), self.representative(j)\n",
    "            if p_i != p_j:\n",
    "                self.color[p_i] = p_j\n",
    "        \n",
    "        def is_connected(self, i, j):\n",
    "            return self.representative(i) == self.representative(j)\n",
    "    \n",
    "    G = nx.Graph(G)\n",
    "    neighbors = {\n",
    "        n: set(G.neighbors(n))\n",
    "        for n in G.nodes()\n",
    "    }\n",
    "    \n",
    "    coloring = UnionFind(G.nodes())\n",
    "    for u in G.nodes():\n",
    "        for v in neighbors[u]:\n",
    "            # If u, v share more than t neighbors then given them the same color\n",
    "            shared_neighbors = neighbors[u].intersection(neighbors[v])\n",
    "            if len(shared_neighbors) >= t:\n",
    "                coloring.union(u, v)\n",
    "\n",
    "    representatives = {\n",
    "        node: coloring.representative(node)\n",
    "        for node in G.nodes()\n",
    "    }\n",
    "\n",
    "    clusters = []\n",
    "    for rep in set(representatives.values()):\n",
    "        cluster = []\n",
    "        for node, col in representatives.items():\n",
    "            if col == rep:\n",
    "                cluster.append(node)\n",
    "\n",
    "        clusters.append(cluster)                \n",
    "\n",
    "    return clusters"
   ]
  },
  {
   "cell_type": "code",
   "execution_count": 70,
   "metadata": {},
   "outputs": [],
   "source": [
    "G_1 = threshold_weights(G, lambda w: True)\n",
    "clusters = shared_nn_clustering(G_1, t=2)"
   ]
  },
  {
   "cell_type": "code",
   "execution_count": 71,
   "metadata": {},
   "outputs": [
    {
     "data": {
      "text/plain": [
       "3043"
      ]
     },
     "execution_count": 71,
     "metadata": {},
     "output_type": "execute_result"
    }
   ],
   "source": [
    "len(clusters)"
   ]
  },
  {
   "cell_type": "code",
   "execution_count": 73,
   "metadata": {
    "scrolled": false
   },
   "outputs": [
    {
     "name": "stdout",
     "output_type": "stream",
     "text": [
      "26471 29972\n",
      "26471 13647\n",
      "13647 29972\n",
      "13647 15295\n",
      "11112 15295\n",
      "15295 13647\n",
      "11112 26471\n",
      "29972 11112\n",
      "15295 29972\n",
      "\n",
      "31676 12968\n",
      "20960 12968\n",
      "20960 31676\n",
      "12968 31676\n",
      "\n"
     ]
    }
   ],
   "source": [
    "for cluster in clusters:\n",
    "    if 3 <= len(cluster) <= 10:\n",
    "        for u, v in set(G.subgraph(cluster).edges()):\n",
    "            print(u, v)\n",
    "        print()"
   ]
  },
  {
   "cell_type": "markdown",
   "metadata": {},
   "source": [
    "### Few cycles which have been detected after clustering stage 1\n",
    "\n",
    "**Considering all edges**\n",
    "<img src='clusters/1_graph.png'>\n",
    "<img src='clusters/1_cycle.png'>\n",
    "\n",
    "**Considering edges with weights in range [1000, 5000]**\n",
    "<img src='clusters/2_cycle.png'>\n",
    "<img src='clusters/3_cycle.png'>\n",
    "\n",
    "**Considering edges with weights in range [1000, 10000]**\n",
    "<img src='clusters/4_cycle.png'>\n",
    "<img src='clusters/5_cycle.png'>"
   ]
  }
 ],
 "metadata": {
  "kernelspec": {
   "display_name": "Python 3",
   "language": "python",
   "name": "python3"
  },
  "language_info": {
   "codemirror_mode": {
    "name": "ipython",
    "version": 3
   },
   "file_extension": ".py",
   "mimetype": "text/x-python",
   "name": "python",
   "nbconvert_exporter": "python",
   "pygments_lexer": "ipython3",
   "version": "3.7.4"
  }
 },
 "nbformat": 4,
 "nbformat_minor": 2
}
