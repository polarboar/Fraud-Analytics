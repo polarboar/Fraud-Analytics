{
 "cells": [
  {
   "cell_type": "code",
   "execution_count": 21,
   "metadata": {},
   "outputs": [],
   "source": [
    "import numpy as np\n",
    "import pandas as pd\n",
    "import matplotlib.pyplot as plt"
   ]
  },
  {
   "cell_type": "code",
   "execution_count": 99,
   "metadata": {},
   "outputs": [
    {
     "data": {
      "text/html": [
       "<div>\n",
       "<style scoped>\n",
       "    .dataframe tbody tr th:only-of-type {\n",
       "        vertical-align: middle;\n",
       "    }\n",
       "\n",
       "    .dataframe tbody tr th {\n",
       "        vertical-align: top;\n",
       "    }\n",
       "\n",
       "    .dataframe thead th {\n",
       "        text-align: right;\n",
       "    }\n",
       "</style>\n",
       "<table border=\"1\" class=\"dataframe\">\n",
       "  <thead>\n",
       "    <tr style=\"text-align: right;\">\n",
       "      <th></th>\n",
       "      <th>Seller</th>\n",
       "      <th>Buyer</th>\n",
       "      <th>Amt</th>\n",
       "    </tr>\n",
       "  </thead>\n",
       "  <tbody>\n",
       "    <tr>\n",
       "      <th>count</th>\n",
       "      <td>708466.000000</td>\n",
       "      <td>708466.000000</td>\n",
       "      <td>7.084660e+05</td>\n",
       "    </tr>\n",
       "    <tr>\n",
       "      <th>mean</th>\n",
       "      <td>9495.510809</td>\n",
       "      <td>10689.271725</td>\n",
       "      <td>4.446489e+04</td>\n",
       "    </tr>\n",
       "    <tr>\n",
       "      <th>std</th>\n",
       "      <td>8593.744882</td>\n",
       "      <td>9125.190479</td>\n",
       "      <td>9.083406e+04</td>\n",
       "    </tr>\n",
       "    <tr>\n",
       "      <th>min</th>\n",
       "      <td>9.000000</td>\n",
       "      <td>1.000000</td>\n",
       "      <td>0.000000e+00</td>\n",
       "    </tr>\n",
       "    <tr>\n",
       "      <th>25%</th>\n",
       "      <td>2548.000000</td>\n",
       "      <td>2783.000000</td>\n",
       "      <td>1.006350e+04</td>\n",
       "    </tr>\n",
       "    <tr>\n",
       "      <th>50%</th>\n",
       "      <td>6814.000000</td>\n",
       "      <td>7880.000000</td>\n",
       "      <td>2.853200e+04</td>\n",
       "    </tr>\n",
       "    <tr>\n",
       "      <th>75%</th>\n",
       "      <td>14907.000000</td>\n",
       "      <td>17104.000000</td>\n",
       "      <td>6.294830e+04</td>\n",
       "    </tr>\n",
       "    <tr>\n",
       "      <th>max</th>\n",
       "      <td>32444.000000</td>\n",
       "      <td>32449.000000</td>\n",
       "      <td>5.030950e+07</td>\n",
       "    </tr>\n",
       "  </tbody>\n",
       "</table>\n",
       "</div>"
      ],
      "text/plain": [
       "              Seller          Buyer           Amt\n",
       "count  708466.000000  708466.000000  7.084660e+05\n",
       "mean     9495.510809   10689.271725  4.446489e+04\n",
       "std      8593.744882    9125.190479  9.083406e+04\n",
       "min         9.000000       1.000000  0.000000e+00\n",
       "25%      2548.000000    2783.000000  1.006350e+04\n",
       "50%      6814.000000    7880.000000  2.853200e+04\n",
       "75%     14907.000000   17104.000000  6.294830e+04\n",
       "max     32444.000000   32449.000000  5.030950e+07"
      ]
     },
     "execution_count": 99,
     "metadata": {},
     "output_type": "execute_result"
    }
   ],
   "source": [
    "original_dataset = pd.read_csv('data.csv')\n",
    "original_dataset.describe()"
   ]
  },
  {
   "cell_type": "markdown",
   "metadata": {},
   "source": [
    "**Drop transactions with value 0**"
   ]
  },
  {
   "cell_type": "code",
   "execution_count": 100,
   "metadata": {},
   "outputs": [
    {
     "data": {
      "text/html": [
       "<div>\n",
       "<style scoped>\n",
       "    .dataframe tbody tr th:only-of-type {\n",
       "        vertical-align: middle;\n",
       "    }\n",
       "\n",
       "    .dataframe tbody tr th {\n",
       "        vertical-align: top;\n",
       "    }\n",
       "\n",
       "    .dataframe thead th {\n",
       "        text-align: right;\n",
       "    }\n",
       "</style>\n",
       "<table border=\"1\" class=\"dataframe\">\n",
       "  <thead>\n",
       "    <tr style=\"text-align: right;\">\n",
       "      <th></th>\n",
       "      <th>Seller</th>\n",
       "      <th>Buyer</th>\n",
       "      <th>Amt</th>\n",
       "    </tr>\n",
       "  </thead>\n",
       "  <tbody>\n",
       "    <tr>\n",
       "      <th>count</th>\n",
       "      <td>707549.000000</td>\n",
       "      <td>707549.000000</td>\n",
       "      <td>7.075490e+05</td>\n",
       "    </tr>\n",
       "    <tr>\n",
       "      <th>mean</th>\n",
       "      <td>9501.940555</td>\n",
       "      <td>10696.489437</td>\n",
       "      <td>4.452252e+04</td>\n",
       "    </tr>\n",
       "    <tr>\n",
       "      <th>std</th>\n",
       "      <td>8594.180764</td>\n",
       "      <td>9126.080854</td>\n",
       "      <td>9.087879e+04</td>\n",
       "    </tr>\n",
       "    <tr>\n",
       "      <th>min</th>\n",
       "      <td>9.000000</td>\n",
       "      <td>1.000000</td>\n",
       "      <td>1.000000e-01</td>\n",
       "    </tr>\n",
       "    <tr>\n",
       "      <th>25%</th>\n",
       "      <td>2548.000000</td>\n",
       "      <td>2822.000000</td>\n",
       "      <td>1.010325e+04</td>\n",
       "    </tr>\n",
       "    <tr>\n",
       "      <th>50%</th>\n",
       "      <td>6814.000000</td>\n",
       "      <td>7883.000000</td>\n",
       "      <td>2.859330e+04</td>\n",
       "    </tr>\n",
       "    <tr>\n",
       "      <th>75%</th>\n",
       "      <td>14907.000000</td>\n",
       "      <td>17139.000000</td>\n",
       "      <td>6.301865e+04</td>\n",
       "    </tr>\n",
       "    <tr>\n",
       "      <th>max</th>\n",
       "      <td>32444.000000</td>\n",
       "      <td>32449.000000</td>\n",
       "      <td>5.030950e+07</td>\n",
       "    </tr>\n",
       "  </tbody>\n",
       "</table>\n",
       "</div>"
      ],
      "text/plain": [
       "              Seller          Buyer           Amt\n",
       "count  707549.000000  707549.000000  7.075490e+05\n",
       "mean     9501.940555   10696.489437  4.452252e+04\n",
       "std      8594.180764    9126.080854  9.087879e+04\n",
       "min         9.000000       1.000000  1.000000e-01\n",
       "25%      2548.000000    2822.000000  1.010325e+04\n",
       "50%      6814.000000    7883.000000  2.859330e+04\n",
       "75%     14907.000000   17139.000000  6.301865e+04\n",
       "max     32444.000000   32449.000000  5.030950e+07"
      ]
     },
     "execution_count": 100,
     "metadata": {},
     "output_type": "execute_result"
    }
   ],
   "source": [
    "dataset = original_dataset.drop(original_dataset[original_dataset['Amt'] == 0].index)\n",
    "dataset.describe()"
   ]
  },
  {
   "cell_type": "code",
   "execution_count": 23,
   "metadata": {},
   "outputs": [],
   "source": [
    "# Transactions of each person\n",
    "transactions = dict()\n",
    "for (seller, buyer, amount) in dataset[['Seller', 'Buyer', 'Amt']].values:\n",
    "    transactions[int(seller)] = transactions.get(int(seller), []) + [(int(buyer), amount)]"
   ]
  },
  {
   "cell_type": "markdown",
   "metadata": {},
   "source": [
    "### Performing benford analysis on the overall transactions"
   ]
  },
  {
   "cell_type": "code",
   "execution_count": 97,
   "metadata": {},
   "outputs": [],
   "source": [
    "from math import log10\n",
    "\n",
    "def benford_analysis(vals):\n",
    "    # Expected Benford frequencies\n",
    "    expected_freq = [round(len(vals) * log10(1 + 1/d)) for d in range(1, 10)]\n",
    "\n",
    "    # Convert to scientific notation and get first digit\n",
    "    first_digit = lambda x: int(('%e' % x)[0])\n",
    "\n",
    "    # Get observed first digit frequencies\n",
    "    observed_freq = [0] * 10\n",
    "    for val in vals:\n",
    "        observed_freq[first_digit(val)] += 1\n",
    "    observed_freq = observed_freq[1:]\n",
    "\n",
    "    print('Expected frequencies: ', expected_freq)\n",
    "    print('Observed frequencies: ', observed_freq)\n",
    "    \n",
    "    plt.plot(range(1, 10), expected_freq, label='Expected')\n",
    "    plt.plot(range(1, 10), observed_freq, label='Observed')\n",
    "    plt.legend(loc='upper right')\n",
    "    plt.show()\n",
    "    \n",
    "    mean_abs_dev = 1/(len(vals)*9) * sum([abs(obv-exp)\n",
    "                                          for obv, exp in zip(observed_freq, expected_freq)])\n",
    "    print('Mean absolute deviation: %.6lf' % mean_abs_dev)"
   ]
  },
  {
   "cell_type": "code",
   "execution_count": 98,
   "metadata": {},
   "outputs": [
    {
     "name": "stdout",
     "output_type": "stream",
     "text": [
      "Expected frequencies:  [212993, 124593, 88400, 68569, 56025, 47368, 41032, 36193, 32376]\n",
      "Observed frequencies:  [215281, 85521, 72658, 82617, 71268, 55021, 46021, 40810, 38352]\n"
     ]
    },
    {
     "data": {
      "image/png": "[encoded data removed]",
      "text/plain": [
       "<Figure size 432x288 with 1 Axes>"
      ]
     },
     "metadata": {
      "needs_background": "light"
     },
     "output_type": "display_data"
    },
    {
     "name": "stdout",
     "output_type": "stream",
     "text": [
      "Mean absolute deviation: 0.017216\n"
     ]
    }
   ],
   "source": [
    "benford_analysis(dataset['Amt'])"
   ]
  },
  {
   "cell_type": "markdown",
   "metadata": {},
   "source": [
    "$\\text{Mean Absolute Deviation (MAD) is around 0.017 which implies a nonconformity between the expected probability and} \\\\ \\text{the observed probability.}$"
   ]
  },
  {
   "cell_type": "markdown",
   "metadata": {},
   "source": [
    "### Pruning the transaction graph\n",
    "\n",
    "- We only consider the nodes (users) which have both incoming and outgoing edges.\n",
    "- This is because our goal is to identify circular trading and nodes need to have both incoming and outgoing edges to be part of a cycle."
   ]
  },
  {
   "cell_type": "code",
   "execution_count": 103,
   "metadata": {},
   "outputs": [
    {
     "data": {
      "text/plain": [
       "(8558, 30511, 6632)"
      ]
     },
     "execution_count": 103,
     "metadata": {},
     "output_type": "execute_result"
    }
   ],
   "source": [
    "sellers = set(dataset['Seller'])\n",
    "buyers = set(dataset['Buyer'])\n",
    "seller_buyer_intersection = sellers.intersection(buyers)\n",
    "\n",
    "len(sellers), len(buyers), len(seller_buyer_intersection)"
   ]
  }
 ],
 "metadata": {
  "kernelspec": {
   "display_name": "Python 3",
   "language": "python",
   "name": "python3"
  },
  "language_info": {
   "codemirror_mode": {
    "name": "ipython",
    "version": 3
   },
   "file_extension": ".py",
   "mimetype": "text/x-python",
   "name": "python",
   "nbconvert_exporter": "python",
   "pygments_lexer": "ipython3",
   "version": "3.7.4"
  }
 },
 "nbformat": 4,
 "nbformat_minor": 2
}
