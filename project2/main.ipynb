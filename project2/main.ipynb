{
  "nbformat": 4,
  "nbformat_minor": 0,
  "metadata": {
    "kernelspec": {
      "name": "python3",
      "display_name": "Python 3"
    },
    "language_info": {
      "codemirror_mode": {
        "name": "ipython",
        "version": 3
      },
      "file_extension": ".py",
      "mimetype": "text/x-python",
      "name": "python",
      "nbconvert_exporter": "python",
      "pygments_lexer": "ipython3",
      "version": "3.7.4"
    },
    "colab": {
      "name": "main.ipynb",
      "provenance": [],
      "toc_visible": true,
      "machine_shape": "hm"
    },
    "accelerator": "GPU"
  },
  "cells": [
    {
      "cell_type": "code",
      "metadata": {
        "id": "nO3HkrRAVK-7",
        "colab_type": "code",
        "colab": {}
      },
      "source": [
        "import pandas as pd\n",
        "import matplotlib.pyplot as plt"
      ],
      "execution_count": 0,
      "outputs": []
    },
    {
      "cell_type": "code",
      "metadata": {
        "id": "L9yqkYb2mJX9",
        "colab_type": "code",
        "colab": {
          "base_uri": "https://localhost:8080/",
          "height": 343
        },
        "outputId": "62fe001c-9992-48ad-dafa-a6bcc22804a5"
      },
      "source": [
        "!pip install https://github.com/scikit-learn-contrib/scikit-learn-extra/archive/master.zip"
      ],
      "execution_count": 2,
      "outputs": [
        {
          "output_type": "stream",
          "text": [
            "Collecting https://github.com/scikit-learn-contrib/scikit-learn-extra/archive/master.zip\n",
            "\u001b[?25l  Downloading https://github.com/scikit-learn-contrib/scikit-learn-extra/archive/master.zip\n",
            "\u001b[K     | 2.1MB 926kB/s\n",
            "\u001b[?25h  Installing build dependencies ... \u001b[?25l\u001b[?25hdone\n",
            "  Getting requirements to build wheel ... \u001b[?25l\u001b[?25hdone\n",
            "    Preparing wheel metadata ... \u001b[?25l\u001b[?25hdone\n",
            "Requirement already satisfied (use --upgrade to upgrade): sklearn-extra==0.0.3 from https://github.com/scikit-learn-contrib/scikit-learn-extra/archive/master.zip in /usr/local/lib/python3.6/dist-packages\n",
            "Requirement already satisfied: scikit-learn in /usr/local/lib/python3.6/dist-packages (from sklearn-extra==0.0.3) (0.21.3)\n",
            "Requirement already satisfied: cython in /usr/local/lib/python3.6/dist-packages (from sklearn-extra==0.0.3) (0.29.14)\n",
            "Requirement already satisfied: scipy in /usr/local/lib/python3.6/dist-packages (from sklearn-extra==0.0.3) (1.3.3)\n",
            "Requirement already satisfied: numpy in /usr/local/lib/python3.6/dist-packages (from sklearn-extra==0.0.3) (1.17.4)\n",
            "Requirement already satisfied: joblib>=0.11 in /usr/local/lib/python3.6/dist-packages (from scikit-learn->sklearn-extra==0.0.3) (0.14.0)\n",
            "Building wheels for collected packages: sklearn-extra\n",
            "  Building wheel for sklearn-extra (PEP 517) ... \u001b[?25l\u001b[?25hdone\n",
            "  Created wheel for sklearn-extra: filename=sklearn_extra-0.0.3-cp36-cp36m-linux_x86_64.whl size=346271 sha256=def8a176e48206dc79565eb89f85b63516ad9acae7638365d085926ddf128c15\n",
            "  Stored in directory: /tmp/pip-ephem-wheel-cache-0zeogiso/wheels/d3/a5/a8/411bc2d0939f2cc9d17f34f0d3457043c68e14a98b91fd8301\n",
            "Successfully built sklearn-extra\n"
          ],
          "name": "stdout"
        }
      ]
    },
    {
      "cell_type": "code",
      "metadata": {
        "id": "4wFA-XcwVK_C",
        "colab_type": "code",
        "colab": {}
      },
      "source": [
        "original_dataset = pd.read_csv('data_class.csv')"
      ],
      "execution_count": 0,
      "outputs": []
    },
    {
      "cell_type": "code",
      "metadata": {
        "id": "OONxAQwtVK_G",
        "colab_type": "code",
        "colab": {}
      },
      "source": [
        "attrs = [\n",
        "    'id',\n",
        "    'total_sales',\n",
        "    'exempt_sales',\n",
        "    'sgst_liability',\n",
        "    'cgst_liability',\n",
        "    'igst_liability',\n",
        "    'total_liability',\n",
        "    'sgst_cashsetoff',\n",
        "    'cgst_cashsetoff',\n",
        "    'igst_cashsetoff',\n",
        "    'total_cashsetoff',\n",
        "    'sgst_itc_claimed',\n",
        "    'cgst_itc_claimed',\n",
        "    'igst_itc_claimed',\n",
        "    'total_itc_claimed'\n",
        "]"
      ],
      "execution_count": 0,
      "outputs": []
    },
    {
      "cell_type": "code",
      "metadata": {
        "id": "VmHzcj1MVK_K",
        "colab_type": "code",
        "outputId": "2512fb66-7126-4256-eb1f-e400f4ccce9c",
        "colab": {
          "base_uri": "https://localhost:8080/",
          "height": 317
        }
      },
      "source": [
        "original_dataset[attrs].describe()"
      ],
      "execution_count": 41,
      "outputs": [
        {
          "output_type": "execute_result",
          "data": {
            "text/html": [
              "<div>\n",
              "<style scoped>\n",
              "    .dataframe tbody tr th:only-of-type {\n",
              "        vertical-align: middle;\n",
              "    }\n",
              "\n",
              "    .dataframe tbody tr th {\n",
              "        vertical-align: top;\n",
              "    }\n",
              "\n",
              "    .dataframe thead th {\n",
              "        text-align: right;\n",
              "    }\n",
              "</style>\n",
              "<table border=\"1\" class=\"dataframe\">\n",
              "  <thead>\n",
              "    <tr style=\"text-align: right;\">\n",
              "      <th></th>\n",
              "      <th>id</th>\n",
              "      <th>total_sales</th>\n",
              "      <th>exempt_sales</th>\n",
              "      <th>sgst_liability</th>\n",
              "      <th>cgst_liability</th>\n",
              "      <th>igst_liability</th>\n",
              "      <th>total_liability</th>\n",
              "      <th>sgst_cashsetoff</th>\n",
              "      <th>cgst_cashsetoff</th>\n",
              "      <th>igst_cashsetoff</th>\n",
              "      <th>total_cashsetoff</th>\n",
              "      <th>sgst_itc_claimed</th>\n",
              "      <th>cgst_itc_claimed</th>\n",
              "      <th>igst_itc_claimed</th>\n",
              "      <th>total_itc_claimed</th>\n",
              "    </tr>\n",
              "  </thead>\n",
              "  <tbody>\n",
              "    <tr>\n",
              "      <th>count</th>\n",
              "      <td>98310.000000</td>\n",
              "      <td>9.831000e+04</td>\n",
              "      <td>9.831000e+04</td>\n",
              "      <td>9.831000e+04</td>\n",
              "      <td>9.831000e+04</td>\n",
              "      <td>9.831000e+04</td>\n",
              "      <td>9.831000e+04</td>\n",
              "      <td>9.831000e+04</td>\n",
              "      <td>9.831000e+04</td>\n",
              "      <td>9.831000e+04</td>\n",
              "      <td>9.831000e+04</td>\n",
              "      <td>9.831000e+04</td>\n",
              "      <td>9.831000e+04</td>\n",
              "      <td>9.831000e+04</td>\n",
              "      <td>9.831000e+04</td>\n",
              "    </tr>\n",
              "    <tr>\n",
              "      <th>mean</th>\n",
              "      <td>5552.447554</td>\n",
              "      <td>6.992708e+07</td>\n",
              "      <td>1.059383e+06</td>\n",
              "      <td>3.488678e+05</td>\n",
              "      <td>3.488360e+05</td>\n",
              "      <td>2.441649e+05</td>\n",
              "      <td>9.418687e+05</td>\n",
              "      <td>5.027718e+04</td>\n",
              "      <td>2.698632e+04</td>\n",
              "      <td>3.390614e+04</td>\n",
              "      <td>1.111696e+05</td>\n",
              "      <td>2.706259e+05</td>\n",
              "      <td>2.709869e+05</td>\n",
              "      <td>3.331935e+05</td>\n",
              "      <td>8.748064e+05</td>\n",
              "    </tr>\n",
              "    <tr>\n",
              "      <th>std</th>\n",
              "      <td>3208.995358</td>\n",
              "      <td>1.945731e+10</td>\n",
              "      <td>5.397268e+07</td>\n",
              "      <td>2.232970e+06</td>\n",
              "      <td>2.233034e+06</td>\n",
              "      <td>3.421634e+06</td>\n",
              "      <td>6.331791e+06</td>\n",
              "      <td>8.005388e+05</td>\n",
              "      <td>3.427799e+05</td>\n",
              "      <td>6.966704e+05</td>\n",
              "      <td>1.338797e+06</td>\n",
              "      <td>1.959146e+06</td>\n",
              "      <td>1.962724e+06</td>\n",
              "      <td>3.458046e+06</td>\n",
              "      <td>6.309488e+06</td>\n",
              "    </tr>\n",
              "    <tr>\n",
              "      <th>min</th>\n",
              "      <td>1.000000</td>\n",
              "      <td>0.000000e+00</td>\n",
              "      <td>0.000000e+00</td>\n",
              "      <td>0.000000e+00</td>\n",
              "      <td>0.000000e+00</td>\n",
              "      <td>0.000000e+00</td>\n",
              "      <td>0.000000e+00</td>\n",
              "      <td>0.000000e+00</td>\n",
              "      <td>0.000000e+00</td>\n",
              "      <td>0.000000e+00</td>\n",
              "      <td>0.000000e+00</td>\n",
              "      <td>0.000000e+00</td>\n",
              "      <td>0.000000e+00</td>\n",
              "      <td>0.000000e+00</td>\n",
              "      <td>0.000000e+00</td>\n",
              "    </tr>\n",
              "    <tr>\n",
              "      <th>25%</th>\n",
              "      <td>2807.000000</td>\n",
              "      <td>1.516012e+05</td>\n",
              "      <td>0.000000e+00</td>\n",
              "      <td>8.613875e+03</td>\n",
              "      <td>8.621250e+03</td>\n",
              "      <td>0.000000e+00</td>\n",
              "      <td>2.654280e+04</td>\n",
              "      <td>0.000000e+00</td>\n",
              "      <td>0.000000e+00</td>\n",
              "      <td>0.000000e+00</td>\n",
              "      <td>0.000000e+00</td>\n",
              "      <td>3.171680e+03</td>\n",
              "      <td>3.172370e+03</td>\n",
              "      <td>0.000000e+00</td>\n",
              "      <td>1.947850e+04</td>\n",
              "    </tr>\n",
              "    <tr>\n",
              "      <th>50%</th>\n",
              "      <td>5516.000000</td>\n",
              "      <td>5.701863e+05</td>\n",
              "      <td>0.000000e+00</td>\n",
              "      <td>3.994900e+04</td>\n",
              "      <td>3.995050e+04</td>\n",
              "      <td>0.000000e+00</td>\n",
              "      <td>1.013656e+05</td>\n",
              "      <td>0.000000e+00</td>\n",
              "      <td>0.000000e+00</td>\n",
              "      <td>0.000000e+00</td>\n",
              "      <td>5.000000e+01</td>\n",
              "      <td>2.773083e+04</td>\n",
              "      <td>2.770950e+04</td>\n",
              "      <td>0.000000e+00</td>\n",
              "      <td>9.208107e+04</td>\n",
              "    </tr>\n",
              "    <tr>\n",
              "      <th>75%</th>\n",
              "      <td>8323.000000</td>\n",
              "      <td>1.772633e+06</td>\n",
              "      <td>0.000000e+00</td>\n",
              "      <td>1.277275e+05</td>\n",
              "      <td>1.277275e+05</td>\n",
              "      <td>1.277892e+04</td>\n",
              "      <td>3.146498e+05</td>\n",
              "      <td>2.900000e+03</td>\n",
              "      <td>1.800000e+03</td>\n",
              "      <td>0.000000e+00</td>\n",
              "      <td>1.222500e+04</td>\n",
              "      <td>1.018048e+05</td>\n",
              "      <td>1.017630e+05</td>\n",
              "      <td>3.692975e+04</td>\n",
              "      <td>2.893800e+05</td>\n",
              "    </tr>\n",
              "    <tr>\n",
              "      <th>max</th>\n",
              "      <td>11201.000000</td>\n",
              "      <td>6.100188e+12</td>\n",
              "      <td>5.898273e+09</td>\n",
              "      <td>1.727816e+08</td>\n",
              "      <td>1.727816e+08</td>\n",
              "      <td>3.064883e+08</td>\n",
              "      <td>4.154618e+08</td>\n",
              "      <td>7.282042e+07</td>\n",
              "      <td>3.210738e+07</td>\n",
              "      <td>6.359860e+07</td>\n",
              "      <td>9.067731e+07</td>\n",
              "      <td>2.151460e+08</td>\n",
              "      <td>2.151460e+08</td>\n",
              "      <td>2.079467e+08</td>\n",
              "      <td>6.379525e+08</td>\n",
              "    </tr>\n",
              "  </tbody>\n",
              "</table>\n",
              "</div>"
            ],
            "text/plain": [
              "                 id   total_sales  ...  igst_itc_claimed  total_itc_claimed\n",
              "count  98310.000000  9.831000e+04  ...      9.831000e+04       9.831000e+04\n",
              "mean    5552.447554  6.992708e+07  ...      3.331935e+05       8.748064e+05\n",
              "std     3208.995358  1.945731e+10  ...      3.458046e+06       6.309488e+06\n",
              "min        1.000000  0.000000e+00  ...      0.000000e+00       0.000000e+00\n",
              "25%     2807.000000  1.516012e+05  ...      0.000000e+00       1.947850e+04\n",
              "50%     5516.000000  5.701863e+05  ...      0.000000e+00       9.208107e+04\n",
              "75%     8323.000000  1.772633e+06  ...      3.692975e+04       2.893800e+05\n",
              "max    11201.000000  6.100188e+12  ...      2.079467e+08       6.379525e+08\n",
              "\n",
              "[8 rows x 15 columns]"
            ]
          },
          "metadata": {
            "tags": []
          },
          "execution_count": 41
        }
      ]
    },
    {
      "cell_type": "code",
      "metadata": {
        "id": "xyZh51kWVK_O",
        "colab_type": "code",
        "outputId": "c494c95f-23c1-4897-e9fc-c697fc08922a",
        "colab": {
          "base_uri": "https://localhost:8080/",
          "height": 35
        }
      },
      "source": [
        "original_dataset.shape"
      ],
      "execution_count": 6,
      "outputs": [
        {
          "output_type": "execute_result",
          "data": {
            "text/plain": [
              "(98310, 16)"
            ]
          },
          "metadata": {
            "tags": []
          },
          "execution_count": 6
        }
      ]
    },
    {
      "cell_type": "code",
      "metadata": {
        "id": "fJ1fETCuVK_S",
        "colab_type": "code",
        "outputId": "af385d3e-036e-4aa2-f3a1-306f7672bc77",
        "colab": {
          "base_uri": "https://localhost:8080/",
          "height": 35
        }
      },
      "source": [
        "dataset = original_dataset.drop(original_dataset[original_dataset['total_liability'] == 0].index)\n",
        "dataset.shape"
      ],
      "execution_count": 7,
      "outputs": [
        {
          "output_type": "execute_result",
          "data": {
            "text/plain": [
              "(92025, 16)"
            ]
          },
          "metadata": {
            "tags": []
          },
          "execution_count": 7
        }
      ]
    },
    {
      "cell_type": "code",
      "metadata": {
        "id": "djLHeyr0VK_W",
        "colab_type": "code",
        "outputId": "f087b0c0-4a99-41b6-db7e-22ef9af864e6",
        "colab": {
          "base_uri": "https://localhost:8080/",
          "height": 35
        }
      },
      "source": [
        "dataset = dataset.drop(dataset[dataset['total_itc_claimed'] == 0].index)\n",
        "dataset.shape"
      ],
      "execution_count": 8,
      "outputs": [
        {
          "output_type": "execute_result",
          "data": {
            "text/plain": [
              "(85187, 16)"
            ]
          },
          "metadata": {
            "tags": []
          },
          "execution_count": 8
        }
      ]
    },
    {
      "cell_type": "code",
      "metadata": {
        "id": "2mTiBhBRVK_Z",
        "colab_type": "code",
        "outputId": "d178ea3e-4f0b-44c5-8439-efeee6fb8d75",
        "colab": {
          "base_uri": "https://localhost:8080/",
          "height": 439
        }
      },
      "source": [
        "dataset[dataset['total_sales'] == 0]"
      ],
      "execution_count": 9,
      "outputs": [
        {
          "output_type": "execute_result",
          "data": {
            "text/html": [
              "<div>\n",
              "<style scoped>\n",
              "    .dataframe tbody tr th:only-of-type {\n",
              "        vertical-align: middle;\n",
              "    }\n",
              "\n",
              "    .dataframe tbody tr th {\n",
              "        vertical-align: top;\n",
              "    }\n",
              "\n",
              "    .dataframe thead th {\n",
              "        text-align: right;\n",
              "    }\n",
              "</style>\n",
              "<table border=\"1\" class=\"dataframe\">\n",
              "  <thead>\n",
              "    <tr style=\"text-align: right;\">\n",
              "      <th></th>\n",
              "      <th>id</th>\n",
              "      <th>mnth</th>\n",
              "      <th>total_sales</th>\n",
              "      <th>exempt_sales</th>\n",
              "      <th>sgst_liability</th>\n",
              "      <th>cgst_liability</th>\n",
              "      <th>igst_liability</th>\n",
              "      <th>total_liability</th>\n",
              "      <th>sgst_cashsetoff</th>\n",
              "      <th>cgst_cashsetoff</th>\n",
              "      <th>igst_cashsetoff</th>\n",
              "      <th>total_cashsetoff</th>\n",
              "      <th>sgst_itc_claimed</th>\n",
              "      <th>cgst_itc_claimed</th>\n",
              "      <th>igst_itc_claimed</th>\n",
              "      <th>total_itc_claimed</th>\n",
              "    </tr>\n",
              "  </thead>\n",
              "  <tbody>\n",
              "    <tr>\n",
              "      <th>16</th>\n",
              "      <td>4</td>\n",
              "      <td>32018</td>\n",
              "      <td>0.0</td>\n",
              "      <td>0.0</td>\n",
              "      <td>1485.0</td>\n",
              "      <td>1485.0</td>\n",
              "      <td>0.0</td>\n",
              "      <td>2970.0</td>\n",
              "      <td>1485.0</td>\n",
              "      <td>1485.0</td>\n",
              "      <td>0.0</td>\n",
              "      <td>2970.0</td>\n",
              "      <td>1485.00</td>\n",
              "      <td>1485.00</td>\n",
              "      <td>91746.0</td>\n",
              "      <td>94716.00</td>\n",
              "    </tr>\n",
              "    <tr>\n",
              "      <th>17</th>\n",
              "      <td>4</td>\n",
              "      <td>122017</td>\n",
              "      <td>0.0</td>\n",
              "      <td>0.0</td>\n",
              "      <td>1485.0</td>\n",
              "      <td>1485.0</td>\n",
              "      <td>0.0</td>\n",
              "      <td>2970.0</td>\n",
              "      <td>1485.0</td>\n",
              "      <td>1485.0</td>\n",
              "      <td>0.0</td>\n",
              "      <td>2970.0</td>\n",
              "      <td>1485.00</td>\n",
              "      <td>1485.00</td>\n",
              "      <td>0.0</td>\n",
              "      <td>2970.00</td>\n",
              "    </tr>\n",
              "    <tr>\n",
              "      <th>91</th>\n",
              "      <td>18</td>\n",
              "      <td>12018</td>\n",
              "      <td>0.0</td>\n",
              "      <td>0.0</td>\n",
              "      <td>1108.0</td>\n",
              "      <td>1108.0</td>\n",
              "      <td>0.0</td>\n",
              "      <td>2216.0</td>\n",
              "      <td>1108.0</td>\n",
              "      <td>1108.0</td>\n",
              "      <td>0.0</td>\n",
              "      <td>2216.0</td>\n",
              "      <td>536694.00</td>\n",
              "      <td>536694.00</td>\n",
              "      <td>307932.0</td>\n",
              "      <td>1381320.00</td>\n",
              "    </tr>\n",
              "    <tr>\n",
              "      <th>94</th>\n",
              "      <td>18</td>\n",
              "      <td>72017</td>\n",
              "      <td>0.0</td>\n",
              "      <td>0.0</td>\n",
              "      <td>79887.0</td>\n",
              "      <td>79887.0</td>\n",
              "      <td>0.0</td>\n",
              "      <td>159774.0</td>\n",
              "      <td>79887.0</td>\n",
              "      <td>79887.0</td>\n",
              "      <td>0.0</td>\n",
              "      <td>159774.0</td>\n",
              "      <td>28118.00</td>\n",
              "      <td>28118.00</td>\n",
              "      <td>74816.0</td>\n",
              "      <td>131052.00</td>\n",
              "    </tr>\n",
              "    <tr>\n",
              "      <th>100</th>\n",
              "      <td>18</td>\n",
              "      <td>102017</td>\n",
              "      <td>0.0</td>\n",
              "      <td>0.0</td>\n",
              "      <td>9022.0</td>\n",
              "      <td>9022.0</td>\n",
              "      <td>0.0</td>\n",
              "      <td>18044.0</td>\n",
              "      <td>9022.0</td>\n",
              "      <td>9022.0</td>\n",
              "      <td>0.0</td>\n",
              "      <td>18044.0</td>\n",
              "      <td>261395.00</td>\n",
              "      <td>261395.00</td>\n",
              "      <td>570835.0</td>\n",
              "      <td>1093625.00</td>\n",
              "    </tr>\n",
              "    <tr>\n",
              "      <th>...</th>\n",
              "      <td>...</td>\n",
              "      <td>...</td>\n",
              "      <td>...</td>\n",
              "      <td>...</td>\n",
              "      <td>...</td>\n",
              "      <td>...</td>\n",
              "      <td>...</td>\n",
              "      <td>...</td>\n",
              "      <td>...</td>\n",
              "      <td>...</td>\n",
              "      <td>...</td>\n",
              "      <td>...</td>\n",
              "      <td>...</td>\n",
              "      <td>...</td>\n",
              "      <td>...</td>\n",
              "      <td>...</td>\n",
              "    </tr>\n",
              "    <tr>\n",
              "      <th>98077</th>\n",
              "      <td>11174</td>\n",
              "      <td>102017</td>\n",
              "      <td>0.0</td>\n",
              "      <td>0.0</td>\n",
              "      <td>110.0</td>\n",
              "      <td>110.0</td>\n",
              "      <td>0.0</td>\n",
              "      <td>220.0</td>\n",
              "      <td>110.0</td>\n",
              "      <td>110.0</td>\n",
              "      <td>0.0</td>\n",
              "      <td>220.0</td>\n",
              "      <td>75285.00</td>\n",
              "      <td>75285.00</td>\n",
              "      <td>0.0</td>\n",
              "      <td>150570.00</td>\n",
              "    </tr>\n",
              "    <tr>\n",
              "      <th>98079</th>\n",
              "      <td>11174</td>\n",
              "      <td>22018</td>\n",
              "      <td>0.0</td>\n",
              "      <td>0.0</td>\n",
              "      <td>325.0</td>\n",
              "      <td>325.0</td>\n",
              "      <td>0.0</td>\n",
              "      <td>650.0</td>\n",
              "      <td>325.0</td>\n",
              "      <td>325.0</td>\n",
              "      <td>0.0</td>\n",
              "      <td>650.0</td>\n",
              "      <td>105851.00</td>\n",
              "      <td>105851.00</td>\n",
              "      <td>0.0</td>\n",
              "      <td>211702.00</td>\n",
              "    </tr>\n",
              "    <tr>\n",
              "      <th>98081</th>\n",
              "      <td>11174</td>\n",
              "      <td>42018</td>\n",
              "      <td>0.0</td>\n",
              "      <td>0.0</td>\n",
              "      <td>950.0</td>\n",
              "      <td>950.0</td>\n",
              "      <td>0.0</td>\n",
              "      <td>1900.0</td>\n",
              "      <td>950.0</td>\n",
              "      <td>950.0</td>\n",
              "      <td>0.0</td>\n",
              "      <td>1900.0</td>\n",
              "      <td>280140.00</td>\n",
              "      <td>280140.00</td>\n",
              "      <td>0.0</td>\n",
              "      <td>560280.00</td>\n",
              "    </tr>\n",
              "    <tr>\n",
              "      <th>98119</th>\n",
              "      <td>11180</td>\n",
              "      <td>82017</td>\n",
              "      <td>0.0</td>\n",
              "      <td>0.0</td>\n",
              "      <td>200.0</td>\n",
              "      <td>200.0</td>\n",
              "      <td>0.0</td>\n",
              "      <td>400.0</td>\n",
              "      <td>200.0</td>\n",
              "      <td>200.0</td>\n",
              "      <td>0.0</td>\n",
              "      <td>400.0</td>\n",
              "      <td>2568.82</td>\n",
              "      <td>2568.82</td>\n",
              "      <td>0.0</td>\n",
              "      <td>5137.64</td>\n",
              "    </tr>\n",
              "    <tr>\n",
              "      <th>98131</th>\n",
              "      <td>11181</td>\n",
              "      <td>62018</td>\n",
              "      <td>0.0</td>\n",
              "      <td>0.0</td>\n",
              "      <td>50.0</td>\n",
              "      <td>50.0</td>\n",
              "      <td>0.0</td>\n",
              "      <td>100.0</td>\n",
              "      <td>50.0</td>\n",
              "      <td>50.0</td>\n",
              "      <td>0.0</td>\n",
              "      <td>100.0</td>\n",
              "      <td>0.00</td>\n",
              "      <td>0.00</td>\n",
              "      <td>57672.0</td>\n",
              "      <td>57672.00</td>\n",
              "    </tr>\n",
              "  </tbody>\n",
              "</table>\n",
              "<p>891 rows × 16 columns</p>\n",
              "</div>"
            ],
            "text/plain": [
              "          id    mnth  ...  igst_itc_claimed  total_itc_claimed\n",
              "16         4   32018  ...           91746.0           94716.00\n",
              "17         4  122017  ...               0.0            2970.00\n",
              "91        18   12018  ...          307932.0         1381320.00\n",
              "94        18   72017  ...           74816.0          131052.00\n",
              "100       18  102017  ...          570835.0         1093625.00\n",
              "...      ...     ...  ...               ...                ...\n",
              "98077  11174  102017  ...               0.0          150570.00\n",
              "98079  11174   22018  ...               0.0          211702.00\n",
              "98081  11174   42018  ...               0.0          560280.00\n",
              "98119  11180   82017  ...               0.0            5137.64\n",
              "98131  11181   62018  ...           57672.0           57672.00\n",
              "\n",
              "[891 rows x 16 columns]"
            ]
          },
          "metadata": {
            "tags": []
          },
          "execution_count": 9
        }
      ]
    },
    {
      "cell_type": "code",
      "metadata": {
        "id": "SPowEx3slWQA",
        "colab_type": "code",
        "colab": {
          "base_uri": "https://localhost:8080/",
          "height": 470
        },
        "outputId": "930618ac-3f11-48f9-ee89-31c7afb9e2d0"
      },
      "source": [
        "del dataset['mnth']\n",
        "dataset = dataset.groupby(['id']).mean()\n",
        "dataset"
      ],
      "execution_count": 43,
      "outputs": [
        {
          "output_type": "execute_result",
          "data": {
            "text/html": [
              "<div>\n",
              "<style scoped>\n",
              "    .dataframe tbody tr th:only-of-type {\n",
              "        vertical-align: middle;\n",
              "    }\n",
              "\n",
              "    .dataframe tbody tr th {\n",
              "        vertical-align: top;\n",
              "    }\n",
              "\n",
              "    .dataframe thead th {\n",
              "        text-align: right;\n",
              "    }\n",
              "</style>\n",
              "<table border=\"1\" class=\"dataframe\">\n",
              "  <thead>\n",
              "    <tr style=\"text-align: right;\">\n",
              "      <th></th>\n",
              "      <th>total_sales</th>\n",
              "      <th>exempt_sales</th>\n",
              "      <th>sgst_liability</th>\n",
              "      <th>cgst_liability</th>\n",
              "      <th>igst_liability</th>\n",
              "      <th>total_liability</th>\n",
              "      <th>sgst_cashsetoff</th>\n",
              "      <th>cgst_cashsetoff</th>\n",
              "      <th>igst_cashsetoff</th>\n",
              "      <th>total_cashsetoff</th>\n",
              "      <th>sgst_itc_claimed</th>\n",
              "      <th>cgst_itc_claimed</th>\n",
              "      <th>igst_itc_claimed</th>\n",
              "      <th>total_itc_claimed</th>\n",
              "    </tr>\n",
              "    <tr>\n",
              "      <th>id</th>\n",
              "      <th></th>\n",
              "      <th></th>\n",
              "      <th></th>\n",
              "      <th></th>\n",
              "      <th></th>\n",
              "      <th></th>\n",
              "      <th></th>\n",
              "      <th></th>\n",
              "      <th></th>\n",
              "      <th></th>\n",
              "      <th></th>\n",
              "      <th></th>\n",
              "      <th></th>\n",
              "      <th></th>\n",
              "    </tr>\n",
              "  </thead>\n",
              "  <tbody>\n",
              "    <tr>\n",
              "      <th>1</th>\n",
              "      <td>2.565797e+06</td>\n",
              "      <td>0.0</td>\n",
              "      <td>8.182866e+04</td>\n",
              "      <td>8.182866e+04</td>\n",
              "      <td>2.981861e+05</td>\n",
              "      <td>4.618434e+05</td>\n",
              "      <td>68745.142857</td>\n",
              "      <td>68675.142857</td>\n",
              "      <td>284130.857143</td>\n",
              "      <td>421551.142857</td>\n",
              "      <td>1.466838e+04</td>\n",
              "      <td>1.466838e+04</td>\n",
              "      <td>8.325857e+03</td>\n",
              "      <td>3.766261e+04</td>\n",
              "    </tr>\n",
              "    <tr>\n",
              "      <th>2</th>\n",
              "      <td>5.129100e+07</td>\n",
              "      <td>0.0</td>\n",
              "      <td>0.000000e+00</td>\n",
              "      <td>0.000000e+00</td>\n",
              "      <td>9.232380e+06</td>\n",
              "      <td>9.232380e+06</td>\n",
              "      <td>0.000000</td>\n",
              "      <td>0.000000</td>\n",
              "      <td>0.000000</td>\n",
              "      <td>0.000000</td>\n",
              "      <td>0.000000e+00</td>\n",
              "      <td>0.000000e+00</td>\n",
              "      <td>9.232380e+06</td>\n",
              "      <td>9.232380e+06</td>\n",
              "    </tr>\n",
              "    <tr>\n",
              "      <th>4</th>\n",
              "      <td>0.000000e+00</td>\n",
              "      <td>0.0</td>\n",
              "      <td>1.485000e+03</td>\n",
              "      <td>1.485000e+03</td>\n",
              "      <td>0.000000e+00</td>\n",
              "      <td>2.970000e+03</td>\n",
              "      <td>1485.000000</td>\n",
              "      <td>1485.000000</td>\n",
              "      <td>0.000000</td>\n",
              "      <td>2970.000000</td>\n",
              "      <td>1.485000e+03</td>\n",
              "      <td>1.485000e+03</td>\n",
              "      <td>4.587300e+04</td>\n",
              "      <td>4.884300e+04</td>\n",
              "    </tr>\n",
              "    <tr>\n",
              "      <th>7</th>\n",
              "      <td>1.742512e+06</td>\n",
              "      <td>0.0</td>\n",
              "      <td>1.045505e+05</td>\n",
              "      <td>1.045505e+05</td>\n",
              "      <td>0.000000e+00</td>\n",
              "      <td>2.091010e+05</td>\n",
              "      <td>0.000000</td>\n",
              "      <td>0.000000</td>\n",
              "      <td>0.000000</td>\n",
              "      <td>0.000000</td>\n",
              "      <td>1.045505e+05</td>\n",
              "      <td>1.045505e+05</td>\n",
              "      <td>0.000000e+00</td>\n",
              "      <td>2.091010e+05</td>\n",
              "    </tr>\n",
              "    <tr>\n",
              "      <th>8</th>\n",
              "      <td>6.026978e+07</td>\n",
              "      <td>0.0</td>\n",
              "      <td>2.176186e+06</td>\n",
              "      <td>2.176186e+06</td>\n",
              "      <td>0.000000e+00</td>\n",
              "      <td>4.352373e+06</td>\n",
              "      <td>0.000000</td>\n",
              "      <td>0.000000</td>\n",
              "      <td>0.000000</td>\n",
              "      <td>0.000000</td>\n",
              "      <td>2.176186e+06</td>\n",
              "      <td>2.176186e+06</td>\n",
              "      <td>0.000000e+00</td>\n",
              "      <td>4.352373e+06</td>\n",
              "    </tr>\n",
              "    <tr>\n",
              "      <th>...</th>\n",
              "      <td>...</td>\n",
              "      <td>...</td>\n",
              "      <td>...</td>\n",
              "      <td>...</td>\n",
              "      <td>...</td>\n",
              "      <td>...</td>\n",
              "      <td>...</td>\n",
              "      <td>...</td>\n",
              "      <td>...</td>\n",
              "      <td>...</td>\n",
              "      <td>...</td>\n",
              "      <td>...</td>\n",
              "      <td>...</td>\n",
              "      <td>...</td>\n",
              "    </tr>\n",
              "    <tr>\n",
              "      <th>11195</th>\n",
              "      <td>1.595692e+05</td>\n",
              "      <td>0.0</td>\n",
              "      <td>1.427957e+04</td>\n",
              "      <td>1.427957e+04</td>\n",
              "      <td>1.650000e+02</td>\n",
              "      <td>2.872414e+04</td>\n",
              "      <td>7955.583333</td>\n",
              "      <td>2979.500000</td>\n",
              "      <td>0.000000</td>\n",
              "      <td>10935.083333</td>\n",
              "      <td>5.260167e+03</td>\n",
              "      <td>5.260167e+03</td>\n",
              "      <td>8.147917e+03</td>\n",
              "      <td>1.866825e+04</td>\n",
              "    </tr>\n",
              "    <tr>\n",
              "      <th>11197</th>\n",
              "      <td>4.367467e+05</td>\n",
              "      <td>0.0</td>\n",
              "      <td>3.382600e+04</td>\n",
              "      <td>3.382600e+04</td>\n",
              "      <td>2.837911e+04</td>\n",
              "      <td>9.603111e+04</td>\n",
              "      <td>636.111111</td>\n",
              "      <td>636.111111</td>\n",
              "      <td>0.000000</td>\n",
              "      <td>1272.222222</td>\n",
              "      <td>4.513845e+04</td>\n",
              "      <td>4.513845e+04</td>\n",
              "      <td>2.391226e+04</td>\n",
              "      <td>1.141892e+05</td>\n",
              "    </tr>\n",
              "    <tr>\n",
              "      <th>11199</th>\n",
              "      <td>3.164098e+05</td>\n",
              "      <td>0.0</td>\n",
              "      <td>4.429743e+04</td>\n",
              "      <td>4.429743e+04</td>\n",
              "      <td>0.000000e+00</td>\n",
              "      <td>8.859486e+04</td>\n",
              "      <td>0.000000</td>\n",
              "      <td>0.000000</td>\n",
              "      <td>0.000000</td>\n",
              "      <td>0.000000</td>\n",
              "      <td>4.622898e+04</td>\n",
              "      <td>4.622898e+04</td>\n",
              "      <td>0.000000e+00</td>\n",
              "      <td>9.245796e+04</td>\n",
              "    </tr>\n",
              "    <tr>\n",
              "      <th>11200</th>\n",
              "      <td>1.279643e+06</td>\n",
              "      <td>0.0</td>\n",
              "      <td>1.151680e+05</td>\n",
              "      <td>1.151680e+05</td>\n",
              "      <td>0.000000e+00</td>\n",
              "      <td>2.303360e+05</td>\n",
              "      <td>8.333333</td>\n",
              "      <td>8.333333</td>\n",
              "      <td>0.000000</td>\n",
              "      <td>16.666667</td>\n",
              "      <td>1.169227e+05</td>\n",
              "      <td>1.169227e+05</td>\n",
              "      <td>0.000000e+00</td>\n",
              "      <td>2.338453e+05</td>\n",
              "    </tr>\n",
              "    <tr>\n",
              "      <th>11201</th>\n",
              "      <td>4.970092e+04</td>\n",
              "      <td>0.0</td>\n",
              "      <td>2.425083e+03</td>\n",
              "      <td>2.425083e+03</td>\n",
              "      <td>1.632333e+03</td>\n",
              "      <td>6.482500e+03</td>\n",
              "      <td>9.833333</td>\n",
              "      <td>9.833333</td>\n",
              "      <td>0.000000</td>\n",
              "      <td>19.666667</td>\n",
              "      <td>2.425833e+02</td>\n",
              "      <td>2.425833e+02</td>\n",
              "      <td>8.731333e+03</td>\n",
              "      <td>9.216500e+03</td>\n",
              "    </tr>\n",
              "  </tbody>\n",
              "</table>\n",
              "<p>9403 rows × 14 columns</p>\n",
              "</div>"
            ],
            "text/plain": [
              "        total_sales  exempt_sales  ...  igst_itc_claimed  total_itc_claimed\n",
              "id                                 ...                                     \n",
              "1      2.565797e+06           0.0  ...      8.325857e+03       3.766261e+04\n",
              "2      5.129100e+07           0.0  ...      9.232380e+06       9.232380e+06\n",
              "4      0.000000e+00           0.0  ...      4.587300e+04       4.884300e+04\n",
              "7      1.742512e+06           0.0  ...      0.000000e+00       2.091010e+05\n",
              "8      6.026978e+07           0.0  ...      0.000000e+00       4.352373e+06\n",
              "...             ...           ...  ...               ...                ...\n",
              "11195  1.595692e+05           0.0  ...      8.147917e+03       1.866825e+04\n",
              "11197  4.367467e+05           0.0  ...      2.391226e+04       1.141892e+05\n",
              "11199  3.164098e+05           0.0  ...      0.000000e+00       9.245796e+04\n",
              "11200  1.279643e+06           0.0  ...      0.000000e+00       2.338453e+05\n",
              "11201  4.970092e+04           0.0  ...      8.731333e+03       9.216500e+03\n",
              "\n",
              "[9403 rows x 14 columns]"
            ]
          },
          "metadata": {
            "tags": []
          },
          "execution_count": 43
        }
      ]
    },
    {
      "cell_type": "markdown",
      "metadata": {
        "id": "6hreu2LEVK_d",
        "colab_type": "text"
      },
      "source": [
        "### Performing Benford Analysis on individual attributes"
      ]
    },
    {
      "cell_type": "code",
      "metadata": {
        "id": "_sCsMITIVK_e",
        "colab_type": "code",
        "colab": {}
      },
      "source": [
        "from math import log10\n",
        "\n",
        "def benford_analysis(vals):\n",
        "    # Expected Benford frequencies\n",
        "    expected_freq = [round(len(vals) * log10(1 + 1/d)) for d in range(1, 10)]\n",
        "\n",
        "    # Convert to scientific notation and get first digit\n",
        "    first_digit = lambda x: int(('%e' % x)[0])\n",
        "\n",
        "    # Get observed first digit frequencies\n",
        "    observed_freq = [0] * 10\n",
        "    for val in vals:\n",
        "        observed_freq[first_digit(val)] += 1\n",
        "    observed_freq = observed_freq[1:]\n",
        "\n",
        "    print('Expected frequencies: ', expected_freq)\n",
        "    print('Observed frequencies: ', observed_freq)\n",
        "\n",
        "    mean_abs_dev = 1/(len(vals)*9) * sum([abs(obv-exp)\n",
        "                                          for obv, exp in zip(observed_freq, expected_freq)])\n",
        "    print('Mean absolute deviation: %.6lf' % mean_abs_dev)\n",
        "    \n",
        "    plt.plot(range(1, 10), expected_freq, label='Expected')\n",
        "    plt.plot(range(1, 10), observed_freq, label='Observed')\n",
        "    plt.legend(loc='upper right')\n",
        "    plt.show()"
      ],
      "execution_count": 0,
      "outputs": []
    },
    {
      "cell_type": "code",
      "metadata": {
        "scrolled": true,
        "id": "u6rFlnwCVK_h",
        "colab_type": "code",
        "outputId": "3e641fda-8b67-4afc-8241-63b0b6f5c1cf",
        "colab": {
          "base_uri": "https://localhost:8080/",
          "height": 1000
        }
      },
      "source": [
        "for attr in attrs:\n",
        "    print('\\t\\t\\t\\t\\t', attr.upper())\n",
        "    benford_analysis(dataset[attr])\n",
        "    print('\\n')"
      ],
      "execution_count": 12,
      "outputs": [
        {
          "output_type": "stream",
          "text": [
            "\t\t\t\t\t TOTAL_SALES\n",
            "Expected frequencies:  [2831, 1656, 1175, 911, 745, 630, 545, 481, 430]\n",
            "Observed frequencies:  [2834, 1524, 1142, 902, 767, 626, 567, 495, 446]\n",
            "Mean absolute deviation: 0.003013\n"
          ],
          "name": "stdout"
        },
        {
          "output_type": "display_data",
          "data": {
            "image/png": "[encoded data removed]",
            "text/plain": [
              "<Figure size 432x288 with 1 Axes>"
            ]
          },
          "metadata": {
            "tags": []
          }
        },
        {
          "output_type": "stream",
          "text": [
            "\n",
            "\n",
            "\t\t\t\t\t EXEMPT_SALES\n",
            "Expected frequencies:  [2831, 1656, 1175, 911, 745, 630, 545, 481, 430]\n",
            "Observed frequencies:  [264, 179, 118, 88, 68, 59, 57, 27, 52]\n",
            "Mean absolute deviation: 0.100346\n"
          ],
          "name": "stdout"
        },
        {
          "output_type": "display_data",
          "data": {
            "image/png": "[encoded data removed]",
            "text/plain": [
              "<Figure size 432x288 with 1 Axes>"
            ]
          },
          "metadata": {
            "tags": []
          }
        },
        {
          "output_type": "stream",
          "text": [
            "\n",
            "\n",
            "\t\t\t\t\t SGST_LIABILITY\n",
            "Expected frequencies:  [2831, 1656, 1175, 911, 745, 630, 545, 481, 430]\n",
            "Observed frequencies:  [2794, 1583, 1153, 905, 735, 652, 564, 476, 449]\n",
            "Mean absolute deviation: 0.002517\n"
          ],
          "name": "stdout"
        },
        {
          "output_type": "display_data",
          "data": {
            "image/png": "[encoded data removed]",
            "text/plain": [
              "<Figure size 432x288 with 1 Axes>"
            ]
          },
          "metadata": {
            "tags": []
          }
        },
        {
          "output_type": "stream",
          "text": [
            "\n",
            "\n",
            "\t\t\t\t\t CGST_LIABILITY\n",
            "Expected frequencies:  [2831, 1656, 1175, 911, 745, 630, 545, 481, 430]\n",
            "Observed frequencies:  [2794, 1582, 1153, 905, 734, 653, 564, 476, 450]\n",
            "Mean absolute deviation: 0.002564\n"
          ],
          "name": "stdout"
        },
        {
          "output_type": "display_data",
          "data": {
            "image/png": "[encoded data removed]",
            "text/plain": [
              "<Figure size 432x288 with 1 Axes>"
            ]
          },
          "metadata": {
            "tags": []
          }
        },
        {
          "output_type": "stream",
          "text": [
            "\n",
            "\n",
            "\t\t\t\t\t IGST_LIABILITY\n",
            "Expected frequencies:  [2831, 1656, 1175, 911, 745, 630, 545, 481, 430]\n",
            "Observed frequencies:  [1559, 917, 654, 489, 426, 353, 309, 267, 242]\n",
            "Mean absolute deviation: 0.049488\n"
          ],
          "name": "stdout"
        },
        {
          "output_type": "display_data",
          "data": {
            "image/png": "[encoded data removed]",
            "text/plain": [
              "<Figure size 432x288 with 1 Axes>"
            ]
          },
          "metadata": {
            "tags": []
          }
        },
        {
          "output_type": "stream",
          "text": [
            "\n",
            "\n",
            "\t\t\t\t\t TOTAL_LIABILITY\n",
            "Expected frequencies:  [2831, 1656, 1175, 911, 745, 630, 545, 481, 430]\n",
            "Observed frequencies:  [2899, 1673, 1150, 872, 716, 591, 571, 455, 476]\n",
            "Mean absolute deviation: 0.003722\n"
          ],
          "name": "stdout"
        },
        {
          "output_type": "display_data",
          "data": {
            "image/png": "[encoded data removed]",
            "text/plain": [
              "<Figure size 432x288 with 1 Axes>"
            ]
          },
          "metadata": {
            "tags": []
          }
        },
        {
          "output_type": "stream",
          "text": [
            "\n",
            "\n",
            "\t\t\t\t\t SGST_CASHSETOFF\n",
            "Expected frequencies:  [2831, 1656, 1175, 911, 745, 630, 545, 481, 430]\n",
            "Observed frequencies:  [2342, 1508, 1023, 788, 640, 527, 465, 508, 377]\n",
            "Mean absolute deviation: 0.015125\n"
          ],
          "name": "stdout"
        },
        {
          "output_type": "display_data",
          "data": {
            "image/png": "[encoded data removed]",
            "text/plain": [
              "<Figure size 432x288 with 1 Axes>"
            ]
          },
          "metadata": {
            "tags": []
          }
        },
        {
          "output_type": "stream",
          "text": [
            "\n",
            "\n",
            "\t\t\t\t\t CGST_CASHSETOFF\n",
            "Expected frequencies:  [2831, 1656, 1175, 911, 745, 630, 545, 481, 430]\n",
            "Observed frequencies:  [2343, 1491, 1002, 784, 648, 553, 488, 485, 369]\n",
            "Mean absolute deviation: 0.014759\n"
          ],
          "name": "stdout"
        },
        {
          "output_type": "display_data",
          "data": {
            "image/png": "[encoded data removed]",
            "text/plain": [
              "<Figure size 432x288 with 1 Axes>"
            ]
          },
          "metadata": {
            "tags": []
          }
        },
        {
          "output_type": "stream",
          "text": [
            "\n",
            "\n",
            "\t\t\t\t\t IGST_CASHSETOFF\n",
            "Expected frequencies:  [2831, 1656, 1175, 911, 745, 630, 545, 481, 430]\n",
            "Observed frequencies:  [858, 546, 357, 286, 226, 192, 161, 148, 123]\n",
            "Mean absolute deviation: 0.076890\n"
          ],
          "name": "stdout"
        },
        {
          "output_type": "display_data",
          "data": {
            "image/png": "[encoded data removed]",
            "text/plain": [
              "<Figure size 432x288 with 1 Axes>"
            ]
          },
          "metadata": {
            "tags": []
          }
        },
        {
          "output_type": "stream",
          "text": [
            "\n",
            "\n",
            "\t\t\t\t\t TOTAL_CASHSETOFF\n",
            "Expected frequencies:  [2831, 1656, 1175, 911, 745, 630, 545, 481, 430]\n",
            "Observed frequencies:  [2607, 1429, 976, 851, 692, 602, 491, 422, 338]\n",
            "Mean absolute deviation: 0.011769\n"
          ],
          "name": "stdout"
        },
        {
          "output_type": "display_data",
          "data": {
            "image/png": "[encoded data removed]",
            "text/plain": [
              "<Figure size 432x288 with 1 Axes>"
            ]
          },
          "metadata": {
            "tags": []
          }
        },
        {
          "output_type": "stream",
          "text": [
            "\n",
            "\n",
            "\t\t\t\t\t SGST_ITC_CLAIMED\n",
            "Expected frequencies:  [2831, 1656, 1175, 911, 745, 630, 545, 481, 430]\n",
            "Observed frequencies:  [2759, 1526, 1137, 882, 745, 647, 538, 517, 462]\n",
            "Mean absolute deviation: 0.004266\n"
          ],
          "name": "stdout"
        },
        {
          "output_type": "display_data",
          "data": {
            "image/png": "[encoded data removed]",
            "text/plain": [
              "<Figure size 432x288 with 1 Axes>"
            ]
          },
          "metadata": {
            "tags": []
          }
        },
        {
          "output_type": "stream",
          "text": [
            "\n",
            "\n",
            "\t\t\t\t\t CGST_ITC_CLAIMED\n",
            "Expected frequencies:  [2831, 1656, 1175, 911, 745, 630, 545, 481, 430]\n",
            "Observed frequencies:  [2757, 1522, 1141, 882, 745, 648, 540, 521, 460]\n",
            "Mean absolute deviation: 0.004301\n"
          ],
          "name": "stdout"
        },
        {
          "output_type": "display_data",
          "data": {
            "image/png": "[encoded data removed]",
            "text/plain": [
              "<Figure size 432x288 with 1 Axes>"
            ]
          },
          "metadata": {
            "tags": []
          }
        },
        {
          "output_type": "stream",
          "text": [
            "\n",
            "\n",
            "\t\t\t\t\t IGST_ITC_CLAIMED\n",
            "Expected frequencies:  [2831, 1656, 1175, 911, 745, 630, 545, 481, 430]\n",
            "Observed frequencies:  [1797, 1092, 746, 543, 481, 374, 354, 296, 277]\n",
            "Mean absolute deviation: 0.040696\n"
          ],
          "name": "stdout"
        },
        {
          "output_type": "display_data",
          "data": {
            "image/png": "[encoded data removed]",
            "text/plain": [
              "<Figure size 432x288 with 1 Axes>"
            ]
          },
          "metadata": {
            "tags": []
          }
        },
        {
          "output_type": "stream",
          "text": [
            "\n",
            "\n",
            "\t\t\t\t\t TOTAL_ITC_CLAIMED\n",
            "Expected frequencies:  [2831, 1656, 1175, 911, 745, 630, 545, 481, 430]\n",
            "Observed frequencies:  [2912, 1712, 1099, 923, 727, 596, 540, 464, 430]\n",
            "Mean absolute deviation: 0.003533\n"
          ],
          "name": "stdout"
        },
        {
          "output_type": "display_data",
          "data": {
            "image/png": "[encoded data removed]",
            "text/plain": [
              "<Figure size 432x288 with 1 Axes>"
            ]
          },
          "metadata": {
            "tags": []
          }
        },
        {
          "output_type": "stream",
          "text": [
            "\n",
            "\n"
          ],
          "name": "stdout"
        }
      ]
    },
    {
      "cell_type": "code",
      "metadata": {
        "id": "0hwdPA4SVK_l",
        "colab_type": "code",
        "colab": {}
      },
      "source": [
        "import numpy as np\n",
        "from sklearn.linear_model import LinearRegression"
      ],
      "execution_count": 0,
      "outputs": []
    },
    {
      "cell_type": "code",
      "metadata": {
        "id": "9fV3a4doVK_o",
        "colab_type": "code",
        "colab": {}
      },
      "source": [
        "correlation_parameter_pairs = [\n",
        "    ('total_sales', 'total_liability'),\n",
        "    ('total_liability', 'sgst_liability'),\n",
        "    ('sgst_liability', 'sgst_cashsetoff'),\n",
        "    ('total_sales', 'sgst_cashsetoff'),\n",
        "    ('total_liability', 'total_itc_claimed'),\n",
        "    ('total_itc_claimed', 'igst_itc_claimed')\n",
        "]\n",
        "\n",
        "ratio_parameter_pairs = [\n",
        "    ('igst_itc_claimed', 'total_itc_claimed'),\n",
        "    ('igst_itc_claimed', 'total_liability')\n",
        "]"
      ],
      "execution_count": 0,
      "outputs": []
    },
    {
      "cell_type": "code",
      "metadata": {
        "id": "f3JUwNHcVK_s",
        "colab_type": "code",
        "colab": {}
      },
      "source": [
        "linear_reg_models = []\n",
        "for variable_1, variable_2 in correlation_parameter_pairs:\n",
        "    X = np.array(dataset[variable_1]).reshape(-1, 1)\n",
        "    Y = np.array(dataset[variable_2])\n",
        "    linear_reg_models.append(\n",
        "        LinearRegression().fit(X, Y)\n",
        "    )"
      ],
      "execution_count": 0,
      "outputs": []
    },
    {
      "cell_type": "code",
      "metadata": {
        "id": "JeIkHqu1VK_v",
        "colab_type": "code",
        "colab": {}
      },
      "source": [
        "def dist(linear_reg_model, x, y, dist_type='error_dist'):\n",
        "    \"\"\"Function to get distance from linear regression separating line\"\"\"\n",
        "    if dist_type == 'error_dist':\n",
        "        # abs(Prediction - True value)\n",
        "        return abs((linear_reg_model.coef_[0]*x + linear_reg_model.intercept_) - y)\n",
        "    \n",
        "    if dist_type == 'min_dist':\n",
        "        # minimum distance from the regression line\n",
        "        return (\n",
        "            abs(linear_reg_model.coef_[0]*x - y + linear_reg_model.intercept_)\n",
        "            / (linear_reg_model.coef_[0]**2 + 1)**0.5\n",
        "        )\n",
        "    \n",
        "    raise NotImplementedError('Invalid dist_type')"
      ],
      "execution_count": 0,
      "outputs": []
    },
    {
      "cell_type": "code",
      "metadata": {
        "id": "QqDo6MhdVK_y",
        "colab_type": "code",
        "colab": {}
      },
      "source": [
        "cols = [\n",
        "    # 'id',\n",
        "    # 'mnth',\n",
        "    'correlation_1',\n",
        "    'correlation_2',\n",
        "    'correlation_3',\n",
        "    'correlation_4',\n",
        "    'correlation_5',\n",
        "    'correlation_6',\n",
        "    'ratio_1',\n",
        "    'ratio_2'\n",
        "]"
      ],
      "execution_count": 0,
      "outputs": []
    },
    {
      "cell_type": "code",
      "metadata": {
        "id": "zkDZUYMiVK_2",
        "colab_type": "code",
        "colab": {}
      },
      "source": [
        "modified_dataset = []\n",
        "for data in dataset.values:\n",
        "    # Put id and month without modification\n",
        "    modified_data = []\n",
        "    \n",
        "    # Generating correlation params\n",
        "    for i, (var1, var2) in enumerate(correlation_parameter_pairs):\n",
        "        x = data[list(dataset.columns).index(var1)]\n",
        "        y = data[list(dataset.columns).index(var2)]\n",
        "        modified_data.append(\n",
        "            dist(linear_reg_models[i], x, y, dist_type='error_dist')\n",
        "        )\n",
        "    \n",
        "    # Generating ratio params\n",
        "    for var1, var2 in ratio_parameter_pairs:\n",
        "        x = data[list(dataset.columns).index(var1)]\n",
        "        y = data[list(dataset.columns).index(var2)]\n",
        "        modified_data.append(x/y)\n",
        "\n",
        "    modified_dataset.append(modified_data)"
      ],
      "execution_count": 0,
      "outputs": []
    },
    {
      "cell_type": "code",
      "metadata": {
        "id": "ldAQeZBGVK_5",
        "colab_type": "code",
        "colab": {}
      },
      "source": [
        "modified_dataset = pd.DataFrame(\n",
        "    data=modified_dataset,\n",
        "    index=dataset.index,\n",
        "    columns=cols\n",
        ")"
      ],
      "execution_count": 0,
      "outputs": []
    },
    {
      "cell_type": "code",
      "metadata": {
        "id": "7dqlMZljVK_8",
        "colab_type": "code",
        "outputId": "af41f563-ba0f-4e32-8698-e0b133550194",
        "colab": {
          "base_uri": "https://localhost:8080/",
          "height": 317
        }
      },
      "source": [
        "modified_dataset.describe()"
      ],
      "execution_count": 54,
      "outputs": [
        {
          "output_type": "execute_result",
          "data": {
            "text/html": [
              "<div>\n",
              "<style scoped>\n",
              "    .dataframe tbody tr th:only-of-type {\n",
              "        vertical-align: middle;\n",
              "    }\n",
              "\n",
              "    .dataframe tbody tr th {\n",
              "        vertical-align: top;\n",
              "    }\n",
              "\n",
              "    .dataframe thead th {\n",
              "        text-align: right;\n",
              "    }\n",
              "</style>\n",
              "<table border=\"1\" class=\"dataframe\">\n",
              "  <thead>\n",
              "    <tr style=\"text-align: right;\">\n",
              "      <th></th>\n",
              "      <th>correlation_1</th>\n",
              "      <th>correlation_2</th>\n",
              "      <th>correlation_3</th>\n",
              "      <th>correlation_4</th>\n",
              "      <th>correlation_5</th>\n",
              "      <th>correlation_6</th>\n",
              "      <th>ratio_1</th>\n",
              "      <th>ratio_2</th>\n",
              "    </tr>\n",
              "  </thead>\n",
              "  <tbody>\n",
              "    <tr>\n",
              "      <th>count</th>\n",
              "      <td>9.403000e+03</td>\n",
              "      <td>9.403000e+03</td>\n",
              "      <td>9.403000e+03</td>\n",
              "      <td>9.403000e+03</td>\n",
              "      <td>9.403000e+03</td>\n",
              "      <td>9.403000e+03</td>\n",
              "      <td>9403.000000</td>\n",
              "      <td>9403.000000</td>\n",
              "    </tr>\n",
              "    <tr>\n",
              "      <th>mean</th>\n",
              "      <td>1.340572e+06</td>\n",
              "      <td>1.864145e+05</td>\n",
              "      <td>6.721399e+04</td>\n",
              "      <td>8.032557e+04</td>\n",
              "      <td>1.817390e+05</td>\n",
              "      <td>2.591939e+05</td>\n",
              "      <td>0.239194</td>\n",
              "      <td>4.983042</td>\n",
              "    </tr>\n",
              "    <tr>\n",
              "      <th>std</th>\n",
              "      <td>5.337196e+06</td>\n",
              "      <td>9.841838e+05</td>\n",
              "      <td>5.013731e+05</td>\n",
              "      <td>6.025994e+05</td>\n",
              "      <td>1.286122e+06</td>\n",
              "      <td>1.461778e+06</td>\n",
              "      <td>0.325430</td>\n",
              "      <td>425.112335</td>\n",
              "    </tr>\n",
              "    <tr>\n",
              "      <th>min</th>\n",
              "      <td>1.169777e+02</td>\n",
              "      <td>1.850649e-01</td>\n",
              "      <td>3.124967e+00</td>\n",
              "      <td>1.207235e+02</td>\n",
              "      <td>1.270757e+01</td>\n",
              "      <td>1.741573e+01</td>\n",
              "      <td>0.000000</td>\n",
              "      <td>0.000000</td>\n",
              "    </tr>\n",
              "    <tr>\n",
              "      <th>25%</th>\n",
              "      <td>6.846721e+05</td>\n",
              "      <td>5.197943e+04</td>\n",
              "      <td>7.777415e+03</td>\n",
              "      <td>4.302924e+04</td>\n",
              "      <td>1.166585e+04</td>\n",
              "      <td>4.522676e+04</td>\n",
              "      <td>0.000000</td>\n",
              "      <td>0.000000</td>\n",
              "    </tr>\n",
              "    <tr>\n",
              "      <th>50%</th>\n",
              "      <td>8.279814e+05</td>\n",
              "      <td>7.095939e+04</td>\n",
              "      <td>1.220433e+04</td>\n",
              "      <td>4.922327e+04</td>\n",
              "      <td>2.567464e+04</td>\n",
              "      <td>6.995646e+04</td>\n",
              "      <td>0.045916</td>\n",
              "      <td>0.037128</td>\n",
              "    </tr>\n",
              "    <tr>\n",
              "      <th>75%</th>\n",
              "      <td>8.940921e+05</td>\n",
              "      <td>8.038917e+04</td>\n",
              "      <td>2.247521e+04</td>\n",
              "      <td>4.984478e+04</td>\n",
              "      <td>6.573035e+04</td>\n",
              "      <td>1.029655e+05</td>\n",
              "      <td>0.416656</td>\n",
              "      <td>0.367592</td>\n",
              "    </tr>\n",
              "    <tr>\n",
              "      <th>max</th>\n",
              "      <td>2.237888e+08</td>\n",
              "      <td>3.545772e+07</td>\n",
              "      <td>3.406976e+07</td>\n",
              "      <td>4.443804e+07</td>\n",
              "      <td>4.723933e+07</td>\n",
              "      <td>6.308538e+07</td>\n",
              "      <td>1.000000</td>\n",
              "      <td>41205.118182</td>\n",
              "    </tr>\n",
              "  </tbody>\n",
              "</table>\n",
              "</div>"
            ],
            "text/plain": [
              "       correlation_1  correlation_2  ...      ratio_1       ratio_2\n",
              "count   9.403000e+03   9.403000e+03  ...  9403.000000   9403.000000\n",
              "mean    1.340572e+06   1.864145e+05  ...     0.239194      4.983042\n",
              "std     5.337196e+06   9.841838e+05  ...     0.325430    425.112335\n",
              "min     1.169777e+02   1.850649e-01  ...     0.000000      0.000000\n",
              "25%     6.846721e+05   5.197943e+04  ...     0.000000      0.000000\n",
              "50%     8.279814e+05   7.095939e+04  ...     0.045916      0.037128\n",
              "75%     8.940921e+05   8.038917e+04  ...     0.416656      0.367592\n",
              "max     2.237888e+08   3.545772e+07  ...     1.000000  41205.118182\n",
              "\n",
              "[8 rows x 8 columns]"
            ]
          },
          "metadata": {
            "tags": []
          },
          "execution_count": 54
        }
      ]
    },
    {
      "cell_type": "code",
      "metadata": {
        "id": "XnbYmrfGVLAA",
        "colab_type": "code",
        "colab": {}
      },
      "source": [
        "for col in cols:\n",
        "    modified_dataset[col] -= modified_dataset[col].mean()\n",
        "    modified_dataset[col] /= modified_dataset[col].std()"
      ],
      "execution_count": 0,
      "outputs": []
    },
    {
      "cell_type": "code",
      "metadata": {
        "id": "HFcrH_7xVLAD",
        "colab_type": "code",
        "outputId": "f52ff725-e0b5-49d6-db52-073eafc3e0de",
        "colab": {
          "base_uri": "https://localhost:8080/",
          "height": 317
        }
      },
      "source": [
        "modified_dataset.describe()"
      ],
      "execution_count": 59,
      "outputs": [
        {
          "output_type": "execute_result",
          "data": {
            "text/html": [
              "<div>\n",
              "<style scoped>\n",
              "    .dataframe tbody tr th:only-of-type {\n",
              "        vertical-align: middle;\n",
              "    }\n",
              "\n",
              "    .dataframe tbody tr th {\n",
              "        vertical-align: top;\n",
              "    }\n",
              "\n",
              "    .dataframe thead th {\n",
              "        text-align: right;\n",
              "    }\n",
              "</style>\n",
              "<table border=\"1\" class=\"dataframe\">\n",
              "  <thead>\n",
              "    <tr style=\"text-align: right;\">\n",
              "      <th></th>\n",
              "      <th>correlation_1</th>\n",
              "      <th>correlation_2</th>\n",
              "      <th>correlation_3</th>\n",
              "      <th>correlation_4</th>\n",
              "      <th>correlation_5</th>\n",
              "      <th>correlation_6</th>\n",
              "      <th>ratio_1</th>\n",
              "      <th>ratio_2</th>\n",
              "    </tr>\n",
              "  </thead>\n",
              "  <tbody>\n",
              "    <tr>\n",
              "      <th>count</th>\n",
              "      <td>9.403000e+03</td>\n",
              "      <td>9.403000e+03</td>\n",
              "      <td>9.403000e+03</td>\n",
              "      <td>9.403000e+03</td>\n",
              "      <td>9.403000e+03</td>\n",
              "      <td>9.403000e+03</td>\n",
              "      <td>9.403000e+03</td>\n",
              "      <td>9.403000e+03</td>\n",
              "    </tr>\n",
              "    <tr>\n",
              "      <th>mean</th>\n",
              "      <td>4.217280e-16</td>\n",
              "      <td>-2.779469e-16</td>\n",
              "      <td>-1.006616e-16</td>\n",
              "      <td>2.436693e-18</td>\n",
              "      <td>7.473313e-17</td>\n",
              "      <td>-5.713168e-17</td>\n",
              "      <td>7.164557e-16</td>\n",
              "      <td>-2.346596e-16</td>\n",
              "    </tr>\n",
              "    <tr>\n",
              "      <th>std</th>\n",
              "      <td>1.000000e+00</td>\n",
              "      <td>1.000000e+00</td>\n",
              "      <td>1.000000e+00</td>\n",
              "      <td>1.000000e+00</td>\n",
              "      <td>1.000000e+00</td>\n",
              "      <td>1.000000e+00</td>\n",
              "      <td>1.000000e+00</td>\n",
              "      <td>1.000000e+00</td>\n",
              "    </tr>\n",
              "    <tr>\n",
              "      <th>min</th>\n",
              "      <td>-2.511534e-01</td>\n",
              "      <td>-1.894101e-01</td>\n",
              "      <td>-1.340536e-01</td>\n",
              "      <td>-1.330981e-01</td>\n",
              "      <td>-1.412978e-01</td>\n",
              "      <td>-1.773023e-01</td>\n",
              "      <td>-7.350074e-01</td>\n",
              "      <td>-1.172171e-02</td>\n",
              "    </tr>\n",
              "    <tr>\n",
              "      <th>25%</th>\n",
              "      <td>-1.228923e-01</td>\n",
              "      <td>-1.365955e-01</td>\n",
              "      <td>-1.185476e-01</td>\n",
              "      <td>-6.189241e-02</td>\n",
              "      <td>-1.322371e-01</td>\n",
              "      <td>-1.463746e-01</td>\n",
              "      <td>-7.350074e-01</td>\n",
              "      <td>-1.172171e-02</td>\n",
              "    </tr>\n",
              "    <tr>\n",
              "      <th>50%</th>\n",
              "      <td>-9.604119e-02</td>\n",
              "      <td>-1.173106e-01</td>\n",
              "      <td>-1.097180e-01</td>\n",
              "      <td>-5.161355e-02</td>\n",
              "      <td>-1.213449e-01</td>\n",
              "      <td>-1.294571e-01</td>\n",
              "      <td>-5.939147e-01</td>\n",
              "      <td>-1.163437e-02</td>\n",
              "    </tr>\n",
              "    <tr>\n",
              "      <th>75%</th>\n",
              "      <td>-8.365442e-02</td>\n",
              "      <td>-1.077292e-01</td>\n",
              "      <td>-8.923252e-02</td>\n",
              "      <td>-5.058216e-02</td>\n",
              "      <td>-9.020032e-02</td>\n",
              "      <td>-1.068756e-01</td>\n",
              "      <td>5.453171e-01</td>\n",
              "      <td>-1.085701e-02</td>\n",
              "    </tr>\n",
              "    <tr>\n",
              "      <th>max</th>\n",
              "      <td>4.167885e+01</td>\n",
              "      <td>3.583812e+01</td>\n",
              "      <td>6.781884e+01</td>\n",
              "      <td>7.361061e+01</td>\n",
              "      <td>3.658874e+01</td>\n",
              "      <td>4.297931e+01</td>\n",
              "      <td>2.337848e+00</td>\n",
              "      <td>9.691588e+01</td>\n",
              "    </tr>\n",
              "  </tbody>\n",
              "</table>\n",
              "</div>"
            ],
            "text/plain": [
              "       correlation_1  correlation_2  ...       ratio_1       ratio_2\n",
              "count   9.403000e+03   9.403000e+03  ...  9.403000e+03  9.403000e+03\n",
              "mean    4.217280e-16  -2.779469e-16  ...  7.164557e-16 -2.346596e-16\n",
              "std     1.000000e+00   1.000000e+00  ...  1.000000e+00  1.000000e+00\n",
              "min    -2.511534e-01  -1.894101e-01  ... -7.350074e-01 -1.172171e-02\n",
              "25%    -1.228923e-01  -1.365955e-01  ... -7.350074e-01 -1.172171e-02\n",
              "50%    -9.604119e-02  -1.173106e-01  ... -5.939147e-01 -1.163437e-02\n",
              "75%    -8.365442e-02  -1.077292e-01  ...  5.453171e-01 -1.085701e-02\n",
              "max     4.167885e+01   3.583812e+01  ...  2.337848e+00  9.691588e+01\n",
              "\n",
              "[8 rows x 8 columns]"
            ]
          },
          "metadata": {
            "tags": []
          },
          "execution_count": 59
        }
      ]
    },
    {
      "cell_type": "code",
      "metadata": {
        "id": "dPMvAMikVyK3",
        "colab_type": "code",
        "outputId": "8200d144-551f-4a83-84f3-105783ece1b0",
        "colab": {
          "base_uri": "https://localhost:8080/",
          "height": 53
        }
      },
      "source": [
        "# DBSCAN\n",
        "from sklearn.cluster import DBSCAN\n",
        "\n",
        "dbscan = DBSCAN(eps=10, min_samples=2, metric='euclidean').fit(modified_dataset)\n",
        "\n",
        "print(list(dbscan.labels_).count(-1))\n",
        "print(np.bincount(kmeans.labels_))"
      ],
      "execution_count": 71,
      "outputs": [
        {
          "output_type": "stream",
          "text": [
            "13\n",
            "[6853   12    1 2289    1   52    7    7  176    5]\n"
          ],
          "name": "stdout"
        }
      ]
    },
    {
      "cell_type": "code",
      "metadata": {
        "id": "Z38DAatiV4mN",
        "colab_type": "code",
        "outputId": "fd24362f-2064-4f02-c501-2c0e6aeccd26",
        "colab": {
          "base_uri": "https://localhost:8080/",
          "height": 778
        }
      },
      "source": [
        "# kmeans\n",
        "from sklearn.cluster import KMeans\n",
        "\n",
        "kmeans = KMeans(n_clusters=10, random_state=0).fit(modified_dataset)\n",
        "print(np.bincount(kmeans.labels_))\n",
        "\n",
        "print(modified_dataset[kmeans.labels_ == 1])\n",
        "dataset[kmeans.labels_ == 1]"
      ],
      "execution_count": 65,
      "outputs": [
        {
          "output_type": "stream",
          "text": [
            "[6853   12    1 2289    1   52    7    7  176    5]\n",
            "      correlation_1  correlation_2  ...   ratio_1   ratio_2\n",
            "id                                  ...                    \n",
            "20         8.763784       9.613813  ...  1.943665 -0.009949\n",
            "105       12.143686      13.268121  ...  1.969569 -0.009704\n",
            "155       12.933270      14.143507  ...  0.511370 -0.010633\n",
            "288        9.089292       7.760741  ... -0.626171 -0.011645\n",
            "327       16.093604      18.223165  ...  1.756266 -0.010293\n",
            "389        7.336792       7.243001  ...  2.232724 -0.009711\n",
            "595        8.690832      10.217323  ... -0.735007 -0.011722\n",
            "613       10.932495      12.169129  ... -0.334925 -0.011419\n",
            "827        7.194488       8.498969  ... -0.735007 -0.011722\n",
            "910        7.165918       8.462689  ... -0.729733 -0.011718\n",
            "1036      12.449950      14.521433  ...  0.011844 -0.011117\n",
            "1568      11.488716      16.123247  ...  1.336742 -0.010521\n",
            "\n",
            "[12 rows x 8 columns]\n"
          ],
          "name": "stdout"
        },
        {
          "output_type": "execute_result",
          "data": {
            "text/html": [
              "<div>\n",
              "<style scoped>\n",
              "    .dataframe tbody tr th:only-of-type {\n",
              "        vertical-align: middle;\n",
              "    }\n",
              "\n",
              "    .dataframe tbody tr th {\n",
              "        vertical-align: top;\n",
              "    }\n",
              "\n",
              "    .dataframe thead th {\n",
              "        text-align: right;\n",
              "    }\n",
              "</style>\n",
              "<table border=\"1\" class=\"dataframe\">\n",
              "  <thead>\n",
              "    <tr style=\"text-align: right;\">\n",
              "      <th></th>\n",
              "      <th>total_sales</th>\n",
              "      <th>exempt_sales</th>\n",
              "      <th>sgst_liability</th>\n",
              "      <th>cgst_liability</th>\n",
              "      <th>igst_liability</th>\n",
              "      <th>total_liability</th>\n",
              "      <th>sgst_cashsetoff</th>\n",
              "      <th>cgst_cashsetoff</th>\n",
              "      <th>igst_cashsetoff</th>\n",
              "      <th>total_cashsetoff</th>\n",
              "      <th>sgst_itc_claimed</th>\n",
              "      <th>cgst_itc_claimed</th>\n",
              "      <th>igst_itc_claimed</th>\n",
              "      <th>total_itc_claimed</th>\n",
              "    </tr>\n",
              "    <tr>\n",
              "      <th>id</th>\n",
              "      <th></th>\n",
              "      <th></th>\n",
              "      <th></th>\n",
              "      <th></th>\n",
              "      <th></th>\n",
              "      <th></th>\n",
              "      <th></th>\n",
              "      <th></th>\n",
              "      <th></th>\n",
              "      <th></th>\n",
              "      <th></th>\n",
              "      <th></th>\n",
              "      <th></th>\n",
              "      <th></th>\n",
              "    </tr>\n",
              "  </thead>\n",
              "  <tbody>\n",
              "    <tr>\n",
              "      <th>20</th>\n",
              "      <td>2.464728e+08</td>\n",
              "      <td>0.000000e+00</td>\n",
              "      <td>2.384730e+07</td>\n",
              "      <td>2.384730e+07</td>\n",
              "      <td>1.352860e+06</td>\n",
              "      <td>4.904745e+07</td>\n",
              "      <td>6.806375e+06</td>\n",
              "      <td>3.309391e+05</td>\n",
              "      <td>8.010125e+04</td>\n",
              "      <td>7.217415e+06</td>\n",
              "      <td>2.719105e+06</td>\n",
              "      <td>2.719105e+06</td>\n",
              "      <td>3.695536e+07</td>\n",
              "      <td>4.239357e+07</td>\n",
              "    </tr>\n",
              "    <tr>\n",
              "      <th>105</th>\n",
              "      <td>3.937490e+08</td>\n",
              "      <td>2.165792e+04</td>\n",
              "      <td>3.263756e+07</td>\n",
              "      <td>3.263756e+07</td>\n",
              "      <td>1.815486e+06</td>\n",
              "      <td>6.709061e+07</td>\n",
              "      <td>5.989237e+06</td>\n",
              "      <td>2.057728e+05</td>\n",
              "      <td>2.475616e+05</td>\n",
              "      <td>6.442572e+06</td>\n",
              "      <td>3.917969e+06</td>\n",
              "      <td>3.917969e+06</td>\n",
              "      <td>5.754585e+07</td>\n",
              "      <td>6.538179e+07</td>\n",
              "    </tr>\n",
              "    <tr>\n",
              "      <th>155</th>\n",
              "      <td>5.418446e+08</td>\n",
              "      <td>1.132782e+08</td>\n",
              "      <td>3.471331e+07</td>\n",
              "      <td>3.471331e+07</td>\n",
              "      <td>1.882148e+06</td>\n",
              "      <td>7.130876e+07</td>\n",
              "      <td>4.104245e+05</td>\n",
              "      <td>2.888634e+05</td>\n",
              "      <td>1.016875e+04</td>\n",
              "      <td>7.094567e+05</td>\n",
              "      <td>2.419007e+07</td>\n",
              "      <td>2.419007e+07</td>\n",
              "      <td>3.301432e+07</td>\n",
              "      <td>8.139445e+07</td>\n",
              "    </tr>\n",
              "    <tr>\n",
              "      <th>288</th>\n",
              "      <td>2.917881e+08</td>\n",
              "      <td>9.643791e+06</td>\n",
              "      <td>2.252397e+07</td>\n",
              "      <td>2.252397e+07</td>\n",
              "      <td>5.738035e+06</td>\n",
              "      <td>5.078598e+07</td>\n",
              "      <td>1.075601e+06</td>\n",
              "      <td>6.078290e+05</td>\n",
              "      <td>2.075756e+06</td>\n",
              "      <td>3.759186e+06</td>\n",
              "      <td>2.268451e+07</td>\n",
              "      <td>2.268607e+07</td>\n",
              "      <td>1.665976e+06</td>\n",
              "      <td>4.703656e+07</td>\n",
              "    </tr>\n",
              "    <tr>\n",
              "      <th>327</th>\n",
              "      <td>5.050202e+08</td>\n",
              "      <td>2.178332e+07</td>\n",
              "      <td>7.340725e+06</td>\n",
              "      <td>7.340725e+06</td>\n",
              "      <td>7.349364e+07</td>\n",
              "      <td>8.817509e+07</td>\n",
              "      <td>1.450861e+06</td>\n",
              "      <td>1.163541e+06</td>\n",
              "      <td>1.915584e+07</td>\n",
              "      <td>2.177024e+07</td>\n",
              "      <td>6.250929e+06</td>\n",
              "      <td>6.250929e+06</td>\n",
              "      <td>5.355311e+07</td>\n",
              "      <td>6.605496e+07</td>\n",
              "    </tr>\n",
              "    <tr>\n",
              "      <th>389</th>\n",
              "      <td>1.576450e+08</td>\n",
              "      <td>0.000000e+00</td>\n",
              "      <td>1.932098e+07</td>\n",
              "      <td>1.932098e+07</td>\n",
              "      <td>2.786981e+06</td>\n",
              "      <td>4.142894e+07</td>\n",
              "      <td>2.802976e+06</td>\n",
              "      <td>1.948358e+04</td>\n",
              "      <td>0.000000e+00</td>\n",
              "      <td>2.822459e+06</td>\n",
              "      <td>6.270535e+05</td>\n",
              "      <td>6.270535e+05</td>\n",
              "      <td>3.540438e+07</td>\n",
              "      <td>3.665849e+07</td>\n",
              "    </tr>\n",
              "    <tr>\n",
              "      <th>595</th>\n",
              "      <td>2.703263e+08</td>\n",
              "      <td>0.000000e+00</td>\n",
              "      <td>2.432937e+07</td>\n",
              "      <td>2.432937e+07</td>\n",
              "      <td>0.000000e+00</td>\n",
              "      <td>4.865874e+07</td>\n",
              "      <td>3.063714e+03</td>\n",
              "      <td>3.063714e+03</td>\n",
              "      <td>0.000000e+00</td>\n",
              "      <td>6.127429e+03</td>\n",
              "      <td>2.433076e+07</td>\n",
              "      <td>2.433076e+07</td>\n",
              "      <td>0.000000e+00</td>\n",
              "      <td>4.866151e+07</td>\n",
              "    </tr>\n",
              "    <tr>\n",
              "      <th>613</th>\n",
              "      <td>5.000987e+08</td>\n",
              "      <td>0.000000e+00</td>\n",
              "      <td>2.969600e+07</td>\n",
              "      <td>2.969600e+07</td>\n",
              "      <td>1.237113e+06</td>\n",
              "      <td>6.062911e+07</td>\n",
              "      <td>1.503385e+06</td>\n",
              "      <td>7.167692e+04</td>\n",
              "      <td>2.951500e+03</td>\n",
              "      <td>1.578014e+06</td>\n",
              "      <td>2.602469e+07</td>\n",
              "      <td>2.602469e+07</td>\n",
              "      <td>7.791175e+06</td>\n",
              "      <td>5.984056e+07</td>\n",
              "    </tr>\n",
              "    <tr>\n",
              "      <th>827</th>\n",
              "      <td>8.137413e+08</td>\n",
              "      <td>0.000000e+00</td>\n",
              "      <td>2.034353e+07</td>\n",
              "      <td>2.034353e+07</td>\n",
              "      <td>0.000000e+00</td>\n",
              "      <td>4.068706e+07</td>\n",
              "      <td>5.000000e+00</td>\n",
              "      <td>5.000000e+00</td>\n",
              "      <td>0.000000e+00</td>\n",
              "      <td>1.000000e+01</td>\n",
              "      <td>2.034353e+07</td>\n",
              "      <td>2.034353e+07</td>\n",
              "      <td>0.000000e+00</td>\n",
              "      <td>4.068706e+07</td>\n",
              "    </tr>\n",
              "    <tr>\n",
              "      <th>910</th>\n",
              "      <td>2.251256e+08</td>\n",
              "      <td>0.000000e+00</td>\n",
              "      <td>2.025938e+07</td>\n",
              "      <td>2.025938e+07</td>\n",
              "      <td>0.000000e+00</td>\n",
              "      <td>4.051876e+07</td>\n",
              "      <td>1.250000e+02</td>\n",
              "      <td>6.637250e+03</td>\n",
              "      <td>0.000000e+00</td>\n",
              "      <td>6.762250e+03</td>\n",
              "      <td>2.007846e+07</td>\n",
              "      <td>2.007846e+07</td>\n",
              "      <td>6.904500e+04</td>\n",
              "      <td>4.022597e+07</td>\n",
              "    </tr>\n",
              "    <tr>\n",
              "      <th>1036</th>\n",
              "      <td>5.674227e+08</td>\n",
              "      <td>0.000000e+00</td>\n",
              "      <td>3.434292e+07</td>\n",
              "      <td>3.434292e+07</td>\n",
              "      <td>4.403967e+04</td>\n",
              "      <td>6.872987e+07</td>\n",
              "      <td>2.613312e+05</td>\n",
              "      <td>2.613312e+05</td>\n",
              "      <td>3.839425e+04</td>\n",
              "      <td>5.610566e+05</td>\n",
              "      <td>2.752040e+07</td>\n",
              "      <td>2.752040e+07</td>\n",
              "      <td>1.767292e+07</td>\n",
              "      <td>7.271372e+07</td>\n",
              "    </tr>\n",
              "    <tr>\n",
              "      <th>1568</th>\n",
              "      <td>3.506815e+09</td>\n",
              "      <td>4.044862e+07</td>\n",
              "      <td>2.356070e+06</td>\n",
              "      <td>2.356070e+06</td>\n",
              "      <td>5.896645e+07</td>\n",
              "      <td>6.367859e+07</td>\n",
              "      <td>2.102082e+05</td>\n",
              "      <td>2.102082e+05</td>\n",
              "      <td>1.459060e+07</td>\n",
              "      <td>1.501102e+07</td>\n",
              "      <td>7.853442e+06</td>\n",
              "      <td>7.853442e+06</td>\n",
              "      <td>3.250477e+07</td>\n",
              "      <td>4.821165e+07</td>\n",
              "    </tr>\n",
              "  </tbody>\n",
              "</table>\n",
              "</div>"
            ],
            "text/plain": [
              "       total_sales  exempt_sales  ...  igst_itc_claimed  total_itc_claimed\n",
              "id                                ...                                     \n",
              "20    2.464728e+08  0.000000e+00  ...      3.695536e+07       4.239357e+07\n",
              "105   3.937490e+08  2.165792e+04  ...      5.754585e+07       6.538179e+07\n",
              "155   5.418446e+08  1.132782e+08  ...      3.301432e+07       8.139445e+07\n",
              "288   2.917881e+08  9.643791e+06  ...      1.665976e+06       4.703656e+07\n",
              "327   5.050202e+08  2.178332e+07  ...      5.355311e+07       6.605496e+07\n",
              "389   1.576450e+08  0.000000e+00  ...      3.540438e+07       3.665849e+07\n",
              "595   2.703263e+08  0.000000e+00  ...      0.000000e+00       4.866151e+07\n",
              "613   5.000987e+08  0.000000e+00  ...      7.791175e+06       5.984056e+07\n",
              "827   8.137413e+08  0.000000e+00  ...      0.000000e+00       4.068706e+07\n",
              "910   2.251256e+08  0.000000e+00  ...      6.904500e+04       4.022597e+07\n",
              "1036  5.674227e+08  0.000000e+00  ...      1.767292e+07       7.271372e+07\n",
              "1568  3.506815e+09  4.044862e+07  ...      3.250477e+07       4.821165e+07\n",
              "\n",
              "[12 rows x 14 columns]"
            ]
          },
          "metadata": {
            "tags": []
          },
          "execution_count": 65
        }
      ]
    },
    {
      "cell_type": "code",
      "metadata": {
        "id": "CYTXfbwBV7Pr",
        "colab_type": "code",
        "colab": {
          "base_uri": "https://localhost:8080/",
          "height": 35
        },
        "outputId": "630efacf-8117-499b-e259-f50b81310d71"
      },
      "source": [
        "# k medoids\n",
        "from sklearn_extra.cluster import KMedoids\n",
        "\n",
        "kmedoids = KMedoids(n_clusters=10, random_state=0).fit(modified_dataset)\n",
        "print(np.bincount(kmedoids.labels_))"
      ],
      "execution_count": 72,
      "outputs": [
        {
          "output_type": "stream",
          "text": [
            "[ 522  953 1168 2549  104  235 1016  186  938 1732]\n"
          ],
          "name": "stdout"
        }
      ]
    },
    {
      "cell_type": "code",
      "metadata": {
        "id": "ST5ySaOlV7qy",
        "colab_type": "code",
        "colab": {
          "base_uri": "https://localhost:8080/",
          "height": 35
        },
        "outputId": "39adb746-6233-4e16-b066-cd9d77ae857e"
      },
      "source": [
        "#Hierarchical\n",
        "from sklearn.cluster import AgglomerativeClustering\n",
        "\n",
        "hierarchical = AgglomerativeClustering().fit(modified_dataset)\n",
        "np.bincount(hierarchical.labels_)"
      ],
      "execution_count": 73,
      "outputs": [
        {
          "output_type": "execute_result",
          "data": {
            "text/plain": [
              "array([9370,   33])"
            ]
          },
          "metadata": {
            "tags": []
          },
          "execution_count": 73
        }
      ]
    },
    {
      "cell_type": "code",
      "metadata": {
        "id": "F-u25D74V7_a",
        "colab_type": "code",
        "colab": {
          "base_uri": "https://localhost:8080/",
          "height": 35
        },
        "outputId": "df3dfbbb-fc4a-41c3-e470-6720e5c2fa3f"
      },
      "source": [
        "# Spectral\n",
        "from sklearn.cluster import SpectralClustering\n",
        "\n",
        "spectral = SpectralClustering(n_clusters=100,assign_labels=\"discretize\",random_state=0, affinity='nearest_neighbors').fit(modified_dataset)\n",
        "spectral.labels_"
      ],
      "execution_count": 98,
      "outputs": [
        {
          "output_type": "execute_result",
          "data": {
            "text/plain": [
              "array([ 0, 28, 93, ..., 72, 44, 13])"
            ]
          },
          "metadata": {
            "tags": []
          },
          "execution_count": 98
        }
      ]
    },
    {
      "cell_type": "code",
      "metadata": {
        "id": "VMHzxD75lyhN",
        "colab_type": "code",
        "colab": {
          "base_uri": "https://localhost:8080/",
          "height": 161
        },
        "outputId": "aaab9ed1-5ad5-45dd-9d25-753adb6967a6"
      },
      "source": [
        "np.bincount(spectral.labels_)"
      ],
      "execution_count": 99,
      "outputs": [
        {
          "output_type": "execute_result",
          "data": {
            "text/plain": [
              "array([207,  75,  71, 112,  72,  99, 124,  97,  70,  54, 100, 100,  68,\n",
              "        92, 153, 114,  76, 101,  61,  70,  77,  79,  86,  55, 132,  76,\n",
              "        89,  91,  82,  56,  61,  66, 234,  81,  51,  99,  62, 130, 108,\n",
              "       104, 108,  55,  80,  85,  70, 120,  85,  68,  68,  79,  65,  55,\n",
              "       105,  86, 143,  74,  91, 138,  88,  74,  79,  71,  98,  72, 109,\n",
              "        66, 113, 149,  78,  47, 104, 138,  79, 137, 138, 126,  89, 129,\n",
              "       107,  73, 121,  62,  66,  88,  80, 104, 109, 118,  83,  59,  89,\n",
              "        79, 211, 110, 101, 119, 103,  89, 101,  37])"
            ]
          },
          "metadata": {
            "tags": []
          },
          "execution_count": 99
        }
      ]
    },
    {
      "cell_type": "code",
      "metadata": {
        "id": "ygHLebSmxYLl",
        "colab_type": "code",
        "colab": {
          "base_uri": "https://localhost:8080/",
          "height": 53
        },
        "outputId": "1d261a2e-107c-48d7-8969-86663156c82c"
      },
      "source": [
        "np.bincount(spectral.labels_)"
      ],
      "execution_count": 95,
      "outputs": [
        {
          "output_type": "execute_result",
          "data": {
            "text/plain": [
              "array([561, 470, 369, 486, 440, 168, 431, 530, 541, 436, 545, 433, 630,\n",
              "       593, 752, 369, 262, 418, 428, 541])"
            ]
          },
          "metadata": {
            "tags": []
          },
          "execution_count": 95
        }
      ]
    }
  ]
}